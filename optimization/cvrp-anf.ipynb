{
 "cells": [
  {
   "cell_type": "markdown",
   "metadata": {},
   "source": [
    "# CVRP\n",
    "Suponga que correos de chile debe decidir cuantos vehículos debe utilizar para distribuir paquetes en Antofagasta en un día cualquiera. Considere los siguientes aspectos:\n",
    "- Se tiene disponible, al inicio de cada día, una lista de paquetes que necesariamente deben ser entregados.\n",
    "- Cada paquete tiene un peso y volumen conocido.\n",
    "- Se cuenta con una serie de vehículos con capacidad en peso y volumen conocidos"
   ]
  },
  {
   "cell_type": "markdown",
   "metadata": {},
   "source": [
    "Considere los siguientes parametros:\n",
    "* $C$ conjunto de clientes o paquetes\n",
    "* $N=\\{0\\}\\cup N$ conjunto de nodos, donde $0$ representa al depot\n",
    "* $A=\\{(i,j)\\in N^2 : i\\neq j\\}$ conjunto de todos las conexiones (arcos) entre nodos\n",
    "* $d_{i,j}$ distancia entre los nodos $i$ y $j$, con $(i,j)\\in A$\n",
    "* $p_i$ peso de cada paquete $i\\in N$\n",
    "* $v_i$ volumen de cada paquete $i\\in N$\n",
    "* $V$ capacidad de volumen de cada vehículo\n",
    "* $P$ capacidad de peso de cada vehículo"
   ]
  },
  {
   "cell_type": "markdown",
   "metadata": {},
   "source": [
    "Considere las siguientes variables de decisión:\n",
    "* $x_{i,j}$ igual a uno cuando se decide viajar sobre el arco $(i,j)\\in A$; igual a cero de lo contrario \n",
    "* $u_i$ volumen acumulado en una ruta hasta el cliente $i\\in C$\n",
    "* $w_j$ peso acumulado en una ruta hasta el cliente $i\\in C$"
   ]
  },
  {
   "cell_type": "markdown",
   "metadata": {},
   "source": [
    "Luego, la formulación matemática del problema es:\n",
    "\\begin{align}\n",
    "\\min \\quad & \\sum_{(i,j)\\in A}d_{i,j}x_{i,j} \\\\\n",
    "\\text{s.t.} \\quad & \\sum_{(i,j)\\in A : j=h} x_{i,j} = 1 && \\forall \\ h \\in C \\\\\n",
    "& \\sum_{(i,j)\\in A : i=h} x_{i,j} = 1 && \\forall \\ h \\in C \\\\\n",
    "& x_{i,j} = 1 \\Rightarrow u_i + v_j = u_j && \\forall \\ (i,j) \\in A : i\\neq 0 , \\ j\\neq 0 \\\\\n",
    "& x_{i,j} = 1 \\Rightarrow w_i + p_j = w_j && \\forall \\ (i,j) \\in A : i\\neq 0 , \\ j\\neq 0 \\\\\n",
    "& v_j \\leq u_i \\leq V && \\forall \\ i \\in C \\\\\n",
    "& p_j \\leq w_i \\leq P && \\forall \\ i \\in C \\\\\n",
    "& x_{i,j} \\in \\{0,1\\} && \\forall \\ (i,j) \\in A\n",
    "\\end{align}"
   ]
  },
  {
   "cell_type": "code",
   "execution_count": 1,
   "metadata": {},
   "outputs": [],
   "source": [
    "import numpy as np\n",
    "import xlwings as xw\n",
    "import folium\n",
    "import docplex.mp.solution as mp_sol\n",
    "from docplex.mp.model import Model\n",
    "from geopy.distance import great_circle"
   ]
  },
  {
   "cell_type": "code",
   "execution_count": 2,
   "metadata": {
    "scrolled": true
   },
   "outputs": [],
   "source": [
    "n = 15\n",
    "paquetes = [i for i in range(1, n + 1)]\n",
    "nodos = [0] + paquetes"
   ]
  },
  {
   "cell_type": "code",
   "execution_count": 3,
   "metadata": {},
   "outputs": [],
   "source": [
    "arcos = [(i,j) for i in nodos for j in nodos if i != j]"
   ]
  },
  {
   "cell_type": "code",
   "execution_count": 4,
   "metadata": {
    "scrolled": true
   },
   "outputs": [],
   "source": [
    "lats = xw.Range('E2:E%d'%(n+2)).value\n",
    "lons = xw.Range('F2:F%d'%(n+2)).value\n",
    "distancia = {(i,j): great_circle((lats[i], lons[i]), (lats[j], lons[j])).meters for i, j in arcos}\n",
    "volumen = xw.Range('G2:G%d'%(n+2)).value\n",
    "peso = xw.Range('H2:H%d'%(n+2)).value\n",
    "volumen_max = xw.Range('K1').value\n",
    "peso_max = xw.Range('K2').value"
   ]
  },
  {
   "cell_type": "code",
   "execution_count": 5,
   "metadata": {},
   "outputs": [],
   "source": [
    "mdl = Model('CVRP Correos de Chile')"
   ]
  },
  {
   "cell_type": "code",
   "execution_count": 6,
   "metadata": {},
   "outputs": [],
   "source": [
    "x = mdl.binary_var_dict(arcos, name='x')\n",
    "u = mdl.continuous_var_dict(paquetes, name='u')\n",
    "w = mdl.continuous_var_dict(paquetes, name='w')"
   ]
  },
  {
   "cell_type": "markdown",
   "metadata": {},
   "source": [
    "$$\\min \\sum_{(i,j)\\in A}d_{i,j}x_{i,j}$$"
   ]
  },
  {
   "cell_type": "code",
   "execution_count": 7,
   "metadata": {},
   "outputs": [],
   "source": [
    "mdl.minimize(mdl.sum(distancia[(i, j)] * x[(i, j)] for i, j in arcos))"
   ]
  },
  {
   "cell_type": "markdown",
   "metadata": {},
   "source": [
    "\\begin{align}\n",
    "& \\sum_{(i,j)\\in A : j=h} x_{i,j} = 1 && \\forall \\ h \\in C\n",
    "\\end{align}"
   ]
  },
  {
   "cell_type": "code",
   "execution_count": 8,
   "metadata": {},
   "outputs": [],
   "source": [
    "for h in paquetes:\n",
    "    mdl.add_constraint(mdl.sum(x[(i,j)] for i,j in arcos if i==h)==1, ctname='out_%d'%h)"
   ]
  },
  {
   "cell_type": "markdown",
   "metadata": {},
   "source": [
    "\\begin{align}\n",
    "& \\sum_{(i,j)\\in A : i=h} x_{i,j} = 1 && \\forall \\ h \\in C\n",
    "\\end{align}"
   ]
  },
  {
   "cell_type": "code",
   "execution_count": 9,
   "metadata": {},
   "outputs": [],
   "source": [
    "for h in paquetes:\n",
    "    mdl.add_constraint(mdl.sum(x[(i,j)] for i,j in arcos if j==h)==1, ctname='in_%d'%h)"
   ]
  },
  {
   "cell_type": "markdown",
   "metadata": {},
   "source": [
    "\\begin{align}\n",
    "& x_{i,j} = 1 \\Rightarrow u_i + v_j = u_j && \\forall \\ (i,j) \\in A : i\\neq 0 , \\ j\\neq 0 \\\\\n",
    "& x_{i,j} = 1 \\Rightarrow w_i + p_j = w_j && \\forall \\ (i,j) \\in A : i\\neq 0 , \\ j\\neq 0\n",
    "\\end{align}"
   ]
  },
  {
   "cell_type": "code",
   "execution_count": 10,
   "metadata": {},
   "outputs": [],
   "source": [
    "for i, j in arcos:\n",
    "    if i!=0 and j!=0:\n",
    "        mdl.add_indicator(x[(i,j)], u[i] + volumen[j] == u[j])\n",
    "        mdl.add_indicator(x[(i,j)], w[i] + peso[j] == w[j])"
   ]
  },
  {
   "cell_type": "markdown",
   "metadata": {},
   "source": [
    "\\begin{align}\n",
    "& v_j \\leq u_i \\leq V && \\forall \\ i \\in C \\\\\n",
    "& p_j \\leq w_i \\leq P && \\forall \\ i \\in C\n",
    "\\end{align}"
   ]
  },
  {
   "cell_type": "code",
   "execution_count": 11,
   "metadata": {},
   "outputs": [],
   "source": [
    "for i in paquetes:\n",
    "    mdl.add_constraint(volumen[i] <= u[i])\n",
    "    mdl.add_constraint(u[i] <= volumen_max)\n",
    "    mdl.add_constraint(peso[i] <= w[i])\n",
    "    mdl.add_constraint(w[i] <= peso_max)"
   ]
  },
  {
   "cell_type": "code",
   "execution_count": 12,
   "metadata": {},
   "outputs": [
    {
     "name": "stdout",
     "output_type": "stream",
     "text": [
      "CPXPARAM_TimeLimit                               60\n",
      "CPXPARAM_Read_DataCheck                          1\n",
      "CPXPARAM_Read_APIEncoding                        \"UTF-8\"\n",
      "CPXPARAM_MIP_Strategy_Branch                     1\n",
      "CPXPARAM_MIP_Tolerances_MIPGap                   0.10000000000000001\n",
      "CPXPARAM_MIP_Strategy_CallbackReducedLP          0\n",
      "Found incumbent of value 166726.698961 after 0.00 sec. (0.02 ticks)\n",
      "Tried aggregator 2 times.\n",
      "MIP Presolve eliminated 60 rows and 0 columns.\n",
      "MIP Presolve modified 210 coefficients.\n",
      "Aggregator did 210 substitutions.\n",
      "Reduced MIP has 240 rows, 480 columns, and 1080 nonzeros.\n",
      "Reduced MIP has 240 binaries, 0 generals, 0 SOSs, and 420 indicators.\n",
      "Presolve time = 0.00 sec. (1.50 ticks)\n",
      "Probing time = 0.00 sec. (1.83 ticks)\n",
      "Tried aggregator 1 time.\n",
      "Reduced MIP has 240 rows, 480 columns, and 1080 nonzeros.\n",
      "Reduced MIP has 240 binaries, 0 generals, 0 SOSs, and 420 indicators.\n",
      "Presolve time = 0.02 sec. (0.82 ticks)\n",
      "Probing time = 0.00 sec. (1.77 ticks)\n",
      "Clique table members: 135.\n",
      "MIP emphasis: balance optimality and feasibility.\n",
      "MIP search method: dynamic search.\n",
      "Parallel mode: deterministic, using up to 8 threads.\n",
      "Root relaxation solution time = 0.00 sec. (0.33 ticks)\n",
      "\n",
      "        Nodes                                         Cuts/\n",
      "   Node  Left     Objective  IInf  Best Integer    Best Bound    ItCnt     Gap\n",
      "\n",
      "*     0+    0                       166726.6990        0.0000           100.00%\n",
      "*     0+    0                       153970.2164        0.0000           100.00%\n",
      "      0     0    11572.3353    15   153970.2164    11572.3353       16   92.48%\n",
      "      0     0    11871.6506    24   153970.2164      Cuts: 59       33   92.29%\n",
      "      0     0    12562.1875    23   153970.2164      Cuts: 32       68   91.84%\n",
      "      0     0    13066.0622    29   153970.2164      Cuts: 29       82   91.51%\n",
      "*     0+    0                       132632.6940    13066.0622            90.15%\n",
      "      0     0    13066.0622    28   132632.6940      Cuts: 14       91   90.15%\n",
      "      0     0    13066.0622    29   132632.6940   Impl Bds: 7       95   90.15%\n",
      "*     0+    0                        52428.3030    13066.0622            75.08%\n",
      "      0     2    13066.0622    19    52428.3030    13363.5436       95   74.51%\n",
      "Elapsed time = 0.11 sec. (23.81 ticks, tree = 0.01 MB, solutions = 4)\n",
      "*    33    17      integral     0    52287.8207    13363.5436      172   74.44%\n",
      "*   110    45      integral     0    52180.0559    13363.5436      481   74.39%\n",
      "*   193    63      integral     0    52077.6657    13363.5436      779   74.34%\n",
      "*   964   313      integral     0    51704.0799    13794.0096     4697   73.32%\n",
      "*  2857  1266      integral     0    51455.7340    14879.7584    24784   71.08%\n",
      "*  3583+ 1578                        51446.5330    14957.3359            70.93%\n",
      "   3610  1834    21992.1136    12    51446.5330    21297.7551    42250   58.60%\n",
      "*  4052   174      integral     0    51163.2871    21410.5791    45799   58.15%\n",
      "*  4806+  440                        51046.8023    21642.7383            57.60%\n",
      "   7195  1540    22192.6679    28    51046.8023    22140.6041    85012   56.63%\n",
      "  11123  2975    47362.8343     5    51046.8023    22613.0962   133911   55.70%\n",
      "  15780  4235    48920.6682     9    51046.8023    22866.5833   184055   55.20%\n",
      "  20267  5756    23218.4203    32    51046.8023    23077.1919   250738   54.79%\n",
      "  24268  6822    41230.9309    15    51046.8023    23269.9461   300603   54.41%\n",
      "* 37617+10128                        51039.7719    23717.6963            53.53%\n",
      "* 39489+10128                        51038.6761    23726.1278            53.51%\n",
      "* 39601+10051                        50901.8447    23726.1278            53.39%\n",
      "  40857 10975    44395.5025    14    50901.8447    23726.1278   515131   53.39%\n",
      "Elapsed time = 4.41 sec. (2414.60 ticks, tree = 4.56 MB, solutions = 13)\n",
      "* 45822+10051                        50899.9243    23726.1278            53.39%\n",
      "* 45974+10128                        50894.8142    23726.1278            53.38%\n",
      "* 46913+10128                        50893.7184    23726.1278            53.38%\n",
      "  55012 13926    49688.7938    22    50893.7184    24198.3559   694323   52.45%\n",
      "  71273 17673    25168.6761    16    50893.7184    24630.2899   944223   51.60%\n",
      "  86934 20578    28523.2454    28    50893.7184    25044.2450  1143027   50.79%\n",
      " 101980 24002    48854.5942    17    50893.7184    25402.0578  1390143   50.09%\n",
      " 116462 26278    39869.5145    17    50893.7184    25718.4341  1572517   49.47%\n",
      " 130146 29012    43642.9173    20    50893.7184    25947.1032  1801471   49.02%\n",
      " 143816 31157    infeasible          50893.7184    26172.1651  1999341   48.57%\n",
      " 156782 33293    33843.8687    17    50893.7184    26388.6512  2205281   48.15%\n",
      " 170097 35410    47370.4078    23    50893.7184    26585.8113  2419710   47.76%\n",
      " 183067 36974    40437.3548    16    50893.7184    26756.0913  2598109   47.43%\n",
      "Elapsed time = 26.67 sec. (11952.12 ticks, tree = 16.20 MB, solutions = 21)\n",
      " 195011 38986    36186.2921    17    50893.7184    26952.8920  2835666   47.04%\n",
      " 206782 40394    40150.9706    18    50893.7184    27112.8853  3001516   46.73%\n",
      " 218653 42103        cutoff          50893.7184    27274.7935  3211486   46.41%\n",
      " 231056 43725    27585.0182    16    50893.7184    27423.7534  3405072   46.12%\n",
      " 243029 45453    34399.5635    21    50893.7184    27576.4247  3616903   45.82%\n",
      " 254486 47070    44714.9092    23    50893.7184    27717.6431  3818304   45.54%\n",
      " 265985 48881    45203.2583    20    50893.7184    27852.6208  4039232   45.27%\n",
      " 278627 50200    infeasible          50893.7184    27987.6933  4205064   45.01%\n",
      " 289680 51921    49152.3827    19    50893.7184    28122.8993  4416950   44.74%\n",
      " 300532 53365    43247.8918    18    50893.7184    28230.9202  4599863   44.53%\n",
      "Elapsed time = 51.11 sec. (21489.37 ticks, tree = 22.62 MB, solutions = 21)\n",
      " 312683 54931        cutoff          50893.7184    28343.1083  4797675   44.31%\n",
      " 322605 56128    infeasible          50893.7184    28469.0474  4957410   44.06%\n",
      " 328554 57166    46835.6258    19    50893.7184    28566.2873  5096625   43.87%\n",
      " 334517 57814    infeasible          50893.7184    28632.3560  5183651   43.74%\n",
      "\n",
      "Clique cuts applied:  8\n",
      "Implied bound cuts applied:  595\n",
      "Mixed integer rounding cuts applied:  9\n",
      "Zero-half cuts applied:  2\n",
      "Gomory fractional cuts applied:  24\n",
      "\n",
      "Root node processing (before b&c):\n",
      "  Real time             =    0.09 sec. (23.71 ticks)\n",
      "Parallel b&c, 8 threads:\n",
      "  Real time             =   59.94 sec. (25292.60 ticks)\n",
      "  Sync time (average)   =    5.42 sec.\n",
      "  Wait time (average)   =    0.17 sec.\n",
      "                          ------------\n",
      "Total (root+branch&cut) =   60.03 sec. (25316.31 ticks)\n"
     ]
    }
   ],
   "source": [
    "mdl.parameters.timelimit = 60\n",
    "mdl.parameters.mip.tolerances.mipgap = 0.1\n",
    "mdl.parameters.mip.strategy.branch = 1\n",
    "solucion = mdl.solve(log_output=True)"
   ]
  },
  {
   "cell_type": "code",
   "execution_count": 13,
   "metadata": {},
   "outputs": [
    {
     "data": {
      "text/plain": [
       "<JobSolveStatus.FEASIBLE_SOLUTION: 1>"
      ]
     },
     "execution_count": 13,
     "metadata": {},
     "output_type": "execute_result"
    }
   ],
   "source": [
    "mdl.get_solve_status()"
   ]
  },
  {
   "cell_type": "code",
   "execution_count": 24,
   "metadata": {},
   "outputs": [
    {
     "data": {
      "text/plain": [
       "[[(0, 1), (1, 9), (9, 11), (11, 5), (5, 0)],\n",
       " [(0, 2), (2, 10), (10, 13), (13, 0)],\n",
       " [(0, 8), (8, 6), (6, 7), (7, 3), (3, 0)],\n",
       " [(0, 15), (15, 14), (14, 12), (12, 4), (4, 0)]]"
      ]
     },
     "execution_count": 24,
     "metadata": {},
     "output_type": "execute_result"
    }
   ],
   "source": [
    "# Encontrar las rutas por separado\n",
    "rutas = []\n",
    "for h in paquetes:\n",
    "    if x[(0, h)].solution_value > 0.9:\n",
    "        arcos_ruta = [(0, h)]\n",
    "        j = h\n",
    "        while j!=0:\n",
    "            i = j\n",
    "            for k in nodos:\n",
    "                if i!=k and x[(i, k)].solution_value > 0.9:\n",
    "                    j = k\n",
    "                    arcos_ruta.append((i, j))\n",
    "                    break\n",
    "        rutas.append(arcos_ruta)\n",
    "rutas"
   ]
  },
  {
   "cell_type": "code",
   "execution_count": 25,
   "metadata": {},
   "outputs": [
    {
     "data": {
      "text/html": [
       "<div style=\"width:100%;\"><div style=\"position:relative;width:100%;height:0;padding-bottom:60%;\"><iframe src=\"data:text/html;charset=utf-8;base64,PCFET0NUWVBFIGh0bWw+CjxoZWFkPiAgICAKICAgIDxtZXRhIGh0dHAtZXF1aXY9ImNvbnRlbnQtdHlwZSIgY29udGVudD0idGV4dC9odG1sOyBjaGFyc2V0PVVURi04IiAvPgogICAgPHNjcmlwdD5MX1BSRUZFUl9DQU5WQVMgPSBmYWxzZTsgTF9OT19UT1VDSCA9IGZhbHNlOyBMX0RJU0FCTEVfM0QgPSBmYWxzZTs8L3NjcmlwdD4KICAgIDxzY3JpcHQgc3JjPSJodHRwczovL2Nkbi5qc2RlbGl2ci5uZXQvbnBtL2xlYWZsZXRAMS4yLjAvZGlzdC9sZWFmbGV0LmpzIj48L3NjcmlwdD4KICAgIDxzY3JpcHQgc3JjPSJodHRwczovL2FqYXguZ29vZ2xlYXBpcy5jb20vYWpheC9saWJzL2pxdWVyeS8xLjExLjEvanF1ZXJ5Lm1pbi5qcyI+PC9zY3JpcHQ+CiAgICA8c2NyaXB0IHNyYz0iaHR0cHM6Ly9tYXhjZG4uYm9vdHN0cmFwY2RuLmNvbS9ib290c3RyYXAvMy4yLjAvanMvYm9vdHN0cmFwLm1pbi5qcyI+PC9zY3JpcHQ+CiAgICA8c2NyaXB0IHNyYz0iaHR0cHM6Ly9jZG5qcy5jbG91ZGZsYXJlLmNvbS9hamF4L2xpYnMvTGVhZmxldC5hd2Vzb21lLW1hcmtlcnMvMi4wLjIvbGVhZmxldC5hd2Vzb21lLW1hcmtlcnMuanMiPjwvc2NyaXB0PgogICAgPGxpbmsgcmVsPSJzdHlsZXNoZWV0IiBocmVmPSJodHRwczovL2Nkbi5qc2RlbGl2ci5uZXQvbnBtL2xlYWZsZXRAMS4yLjAvZGlzdC9sZWFmbGV0LmNzcyIgLz4KICAgIDxsaW5rIHJlbD0ic3R5bGVzaGVldCIgaHJlZj0iaHR0cHM6Ly9tYXhjZG4uYm9vdHN0cmFwY2RuLmNvbS9ib290c3RyYXAvMy4yLjAvY3NzL2Jvb3RzdHJhcC5taW4uY3NzIiAvPgogICAgPGxpbmsgcmVsPSJzdHlsZXNoZWV0IiBocmVmPSJodHRwczovL21heGNkbi5ib290c3RyYXBjZG4uY29tL2Jvb3RzdHJhcC8zLjIuMC9jc3MvYm9vdHN0cmFwLXRoZW1lLm1pbi5jc3MiIC8+CiAgICA8bGluayByZWw9InN0eWxlc2hlZXQiIGhyZWY9Imh0dHBzOi8vbWF4Y2RuLmJvb3RzdHJhcGNkbi5jb20vZm9udC1hd2Vzb21lLzQuNi4zL2Nzcy9mb250LWF3ZXNvbWUubWluLmNzcyIgLz4KICAgIDxsaW5rIHJlbD0ic3R5bGVzaGVldCIgaHJlZj0iaHR0cHM6Ly9jZG5qcy5jbG91ZGZsYXJlLmNvbS9hamF4L2xpYnMvTGVhZmxldC5hd2Vzb21lLW1hcmtlcnMvMi4wLjIvbGVhZmxldC5hd2Vzb21lLW1hcmtlcnMuY3NzIiAvPgogICAgPGxpbmsgcmVsPSJzdHlsZXNoZWV0IiBocmVmPSJodHRwczovL3Jhd2dpdC5jb20vcHl0aG9uLXZpc3VhbGl6YXRpb24vZm9saXVtL21hc3Rlci9mb2xpdW0vdGVtcGxhdGVzL2xlYWZsZXQuYXdlc29tZS5yb3RhdGUuY3NzIiAvPgogICAgPHN0eWxlPmh0bWwsIGJvZHkge3dpZHRoOiAxMDAlO2hlaWdodDogMTAwJTttYXJnaW46IDA7cGFkZGluZzogMDt9PC9zdHlsZT4KICAgIDxzdHlsZT4jbWFwIHtwb3NpdGlvbjphYnNvbHV0ZTt0b3A6MDtib3R0b206MDtyaWdodDowO2xlZnQ6MDt9PC9zdHlsZT4KICAgIAogICAgICAgICAgICA8c3R5bGU+ICNtYXBfZGMxMjlkYzYyZmJlNGVjNGFjNzhmMDk4N2MzOGQ0OWIgewogICAgICAgICAgICAgICAgcG9zaXRpb24gOiByZWxhdGl2ZTsKICAgICAgICAgICAgICAgIHdpZHRoIDogMTAwLjAlOwogICAgICAgICAgICAgICAgaGVpZ2h0OiAxMDAuMCU7CiAgICAgICAgICAgICAgICBsZWZ0OiAwLjAlOwogICAgICAgICAgICAgICAgdG9wOiAwLjAlOwogICAgICAgICAgICAgICAgfQogICAgICAgICAgICA8L3N0eWxlPgogICAgICAgIAo8L2hlYWQ+Cjxib2R5PiAgICAKICAgIAogICAgICAgICAgICA8ZGl2IGNsYXNzPSJmb2xpdW0tbWFwIiBpZD0ibWFwX2RjMTI5ZGM2MmZiZTRlYzRhYzc4ZjA5ODdjMzhkNDliIiA+PC9kaXY+CiAgICAgICAgCjwvYm9keT4KPHNjcmlwdD4gICAgCiAgICAKCiAgICAgICAgICAgIAogICAgICAgICAgICAgICAgdmFyIGJvdW5kcyA9IG51bGw7CiAgICAgICAgICAgIAoKICAgICAgICAgICAgdmFyIG1hcF9kYzEyOWRjNjJmYmU0ZWM0YWM3OGYwOTg3YzM4ZDQ5YiA9IEwubWFwKAogICAgICAgICAgICAgICAgICAgICAgICAgICAgICAgICAgJ21hcF9kYzEyOWRjNjJmYmU0ZWM0YWM3OGYwOTg3YzM4ZDQ5YicsCiAgICAgICAgICAgICAgICAgICAgICAgICAgICAgICAgICB7Y2VudGVyOiBbLTIzLjYyMTQzNjcsLTcwLjM5MDM3MDZdLAogICAgICAgICAgICAgICAgICAgICAgICAgICAgICAgICAgem9vbTogMTIsCiAgICAgICAgICAgICAgICAgICAgICAgICAgICAgICAgICBtYXhCb3VuZHM6IGJvdW5kcywKICAgICAgICAgICAgICAgICAgICAgICAgICAgICAgICAgIGxheWVyczogW10sCiAgICAgICAgICAgICAgICAgICAgICAgICAgICAgICAgICB3b3JsZENvcHlKdW1wOiBmYWxzZSwKICAgICAgICAgICAgICAgICAgICAgICAgICAgICAgICAgIGNyczogTC5DUlMuRVBTRzM4NTcKICAgICAgICAgICAgICAgICAgICAgICAgICAgICAgICAgfSk7CiAgICAgICAgICAgIAogICAgICAgIAogICAgCiAgICAgICAgICAgIHZhciB0aWxlX2xheWVyXzZlYmQ4NGFlZWI3MjRhMjY5NWEzOTJhNzI5OGFmNmFkID0gTC50aWxlTGF5ZXIoCiAgICAgICAgICAgICAgICAnaHR0cHM6Ly97c30udGlsZS5vcGVuc3RyZWV0bWFwLm9yZy97en0ve3h9L3t5fS5wbmcnLAogICAgICAgICAgICAgICAgewogICJhdHRyaWJ1dGlvbiI6IG51bGwsCiAgImRldGVjdFJldGluYSI6IGZhbHNlLAogICJtYXhab29tIjogMTgsCiAgIm1pblpvb20iOiAxLAogICJub1dyYXAiOiBmYWxzZSwKICAic3ViZG9tYWlucyI6ICJhYmMiCn0KICAgICAgICAgICAgICAgICkuYWRkVG8obWFwX2RjMTI5ZGM2MmZiZTRlYzRhYzc4ZjA5ODdjMzhkNDliKTsKICAgICAgICAKICAgIAogICAgICAgICAgICB2YXIgZmVhdHVyZV9ncm91cF80NzY2MWVjMWMwZmQ0YzU2Yjc5ZGNjZGRhNjdmNGI4YiA9IEwuZmVhdHVyZUdyb3VwKAogICAgICAgICAgICAgICAgKS5hZGRUbyhtYXBfZGMxMjlkYzYyZmJlNGVjNGFjNzhmMDk4N2MzOGQ0OWIpOwogICAgICAgIAogICAgCgogICAgICAgICAgICB2YXIgbWFya2VyXzA5NjBhNmZmOWExMjRmMTg4NzdiMzkyMmM4OGNjNzI1ID0gTC5tYXJrZXIoCiAgICAgICAgICAgICAgICBbLTIzLjYyMTQzNjcsLTcwLjM5MDM3MDZdLAogICAgICAgICAgICAgICAgewogICAgICAgICAgICAgICAgICAgIGljb246IG5ldyBMLkljb24uRGVmYXVsdCgpCiAgICAgICAgICAgICAgICAgICAgfQogICAgICAgICAgICAgICAgKQogICAgICAgICAgICAgICAgLmFkZFRvKGZlYXR1cmVfZ3JvdXBfNDc2NjFlYzFjMGZkNGM1NmI3OWRjY2RkYTY3ZjRiOGIpOwogICAgICAgICAgICAKICAgIAoKICAgICAgICAgICAgICAgIHZhciBpY29uXzMxYjQ5Yzg4NDk2MzQ4YjQ4ODQxYjEyNTllZGM5MjczID0gTC5Bd2Vzb21lTWFya2Vycy5pY29uKHsKICAgICAgICAgICAgICAgICAgICBpY29uOiAnaW5mby1zaWduJywKICAgICAgICAgICAgICAgICAgICBpY29uQ29sb3I6ICd3aGl0ZScsCiAgICAgICAgICAgICAgICAgICAgbWFya2VyQ29sb3I6ICdyZWQnLAogICAgICAgICAgICAgICAgICAgIHByZWZpeDogJ2dseXBoaWNvbicsCiAgICAgICAgICAgICAgICAgICAgZXh0cmFDbGFzc2VzOiAnZmEtcm90YXRlLTAnCiAgICAgICAgICAgICAgICAgICAgfSk7CiAgICAgICAgICAgICAgICBtYXJrZXJfMDk2MGE2ZmY5YTEyNGYxODg3N2IzOTIyYzg4Y2M3MjUuc2V0SWNvbihpY29uXzMxYjQ5Yzg4NDk2MzQ4YjQ4ODQxYjEyNTllZGM5MjczKTsKICAgICAgICAgICAgCiAgICAKICAgICAgICAgICAgdmFyIHBvcHVwXzAzYTViZWE0Yzc0YzRlMDY5NGYwMGM3NWU0OWFmNDZlID0gTC5wb3B1cCh7bWF4V2lkdGg6ICczMDAnfSk7CgogICAgICAgICAgICAKICAgICAgICAgICAgICAgIHZhciBodG1sX2Q3YWRlYTczMWU2MzQzZjliYTNkNjZjODg5ZTRjMzIxID0gJCgnPGRpdiBpZD0iaHRtbF9kN2FkZWE3MzFlNjM0M2Y5YmEzZDY2Yzg4OWU0YzMyMSIgc3R5bGU9IndpZHRoOiAxMDAuMCU7IGhlaWdodDogMTAwLjAlOyI+RGVwb3Q8L2Rpdj4nKVswXTsKICAgICAgICAgICAgICAgIHBvcHVwXzAzYTViZWE0Yzc0YzRlMDY5NGYwMGM3NWU0OWFmNDZlLnNldENvbnRlbnQoaHRtbF9kN2FkZWE3MzFlNjM0M2Y5YmEzZDY2Yzg4OWU0YzMyMSk7CiAgICAgICAgICAgIAoKICAgICAgICAgICAgbWFya2VyXzA5NjBhNmZmOWExMjRmMTg4NzdiMzkyMmM4OGNjNzI1LmJpbmRQb3B1cChwb3B1cF8wM2E1YmVhNGM3NGM0ZTA2OTRmMDBjNzVlNDlhZjQ2ZSk7CgogICAgICAgICAgICAKICAgICAgICAKICAgIAoKICAgICAgICAgICAgdmFyIG1hcmtlcl9iMDM4ZjMxMjdlMDE0ZjQ4YTJiYTIyYmJlZGU5ZTNmNiA9IEwubWFya2VyKAogICAgICAgICAgICAgICAgWy0yMy42NzY1MTk5LC03MC40MTE2NzczXSwKICAgICAgICAgICAgICAgIHsKICAgICAgICAgICAgICAgICAgICBpY29uOiBuZXcgTC5JY29uLkRlZmF1bHQoKQogICAgICAgICAgICAgICAgICAgIH0KICAgICAgICAgICAgICAgICkKICAgICAgICAgICAgICAgIC5hZGRUbyhmZWF0dXJlX2dyb3VwXzQ3NjYxZWMxYzBmZDRjNTZiNzlkY2NkZGE2N2Y0YjhiKTsKICAgICAgICAgICAgCiAgICAKCiAgICAgICAgICAgICAgICB2YXIgaWNvbl8wYTE1YWY5NDQxY2M0MzJlODEyNTQ0MGFkMTY2NzhiYiA9IEwuQXdlc29tZU1hcmtlcnMuaWNvbih7CiAgICAgICAgICAgICAgICAgICAgaWNvbjogJ2luZm8tc2lnbicsCiAgICAgICAgICAgICAgICAgICAgaWNvbkNvbG9yOiAnd2hpdGUnLAogICAgICAgICAgICAgICAgICAgIG1hcmtlckNvbG9yOiAnYmx1ZScsCiAgICAgICAgICAgICAgICAgICAgcHJlZml4OiAnZ2x5cGhpY29uJywKICAgICAgICAgICAgICAgICAgICBleHRyYUNsYXNzZXM6ICdmYS1yb3RhdGUtMCcKICAgICAgICAgICAgICAgICAgICB9KTsKICAgICAgICAgICAgICAgIG1hcmtlcl9iMDM4ZjMxMjdlMDE0ZjQ4YTJiYTIyYmJlZGU5ZTNmNi5zZXRJY29uKGljb25fMGExNWFmOTQ0MWNjNDMyZTgxMjU0NDBhZDE2Njc4YmIpOwogICAgICAgICAgICAKICAgIAogICAgICAgICAgICB2YXIgcG9wdXBfNTQzOGQ1NWIyOTBmNDE4ZjhjOTdmYWE2ODc4NDkwMzkgPSBMLnBvcHVwKHttYXhXaWR0aDogJzMwMCd9KTsKCiAgICAgICAgICAgIAogICAgICAgICAgICAgICAgdmFyIGh0bWxfMTk0N2M1NzMyYzAyNGQwMWJhNWJhNjVhYWM0NzkwMTIgPSAkKCc8ZGl2IGlkPSJodG1sXzE5NDdjNTczMmMwMjRkMDFiYTViYTY1YWFjNDc5MDEyIiBzdHlsZT0id2lkdGg6IDEwMC4wJTsgaGVpZ2h0OiAxMDAuMCU7Ij5Kb2FxdWluPC9kaXY+JylbMF07CiAgICAgICAgICAgICAgICBwb3B1cF81NDM4ZDU1YjI5MGY0MThmOGM5N2ZhYTY4Nzg0OTAzOS5zZXRDb250ZW50KGh0bWxfMTk0N2M1NzMyYzAyNGQwMWJhNWJhNjVhYWM0NzkwMTIpOwogICAgICAgICAgICAKCiAgICAgICAgICAgIG1hcmtlcl9iMDM4ZjMxMjdlMDE0ZjQ4YTJiYTIyYmJlZGU5ZTNmNi5iaW5kUG9wdXAocG9wdXBfNTQzOGQ1NWIyOTBmNDE4ZjhjOTdmYWE2ODc4NDkwMzkpOwoKICAgICAgICAgICAgCiAgICAgICAgCiAgICAKCiAgICAgICAgICAgIHZhciBtYXJrZXJfYjNhMTY5YWI2NmU2NGVlOTg3NDgwZGViMDVjYzhlYjcgPSBMLm1hcmtlcigKICAgICAgICAgICAgICAgIFstMjMuNTg4Nzg1OSwtNzAuMzkxMTE1MV0sCiAgICAgICAgICAgICAgICB7CiAgICAgICAgICAgICAgICAgICAgaWNvbjogbmV3IEwuSWNvbi5EZWZhdWx0KCkKICAgICAgICAgICAgICAgICAgICB9CiAgICAgICAgICAgICAgICApCiAgICAgICAgICAgICAgICAuYWRkVG8oZmVhdHVyZV9ncm91cF80NzY2MWVjMWMwZmQ0YzU2Yjc5ZGNjZGRhNjdmNGI4Yik7CiAgICAgICAgICAgIAogICAgCgogICAgICAgICAgICAgICAgdmFyIGljb25fYmQwZTZkZTMxZjhkNGJmN2I2ZjFjYzVmMjEyZGU0NDEgPSBMLkF3ZXNvbWVNYXJrZXJzLmljb24oewogICAgICAgICAgICAgICAgICAgIGljb246ICdpbmZvLXNpZ24nLAogICAgICAgICAgICAgICAgICAgIGljb25Db2xvcjogJ3doaXRlJywKICAgICAgICAgICAgICAgICAgICBtYXJrZXJDb2xvcjogJ2JsdWUnLAogICAgICAgICAgICAgICAgICAgIHByZWZpeDogJ2dseXBoaWNvbicsCiAgICAgICAgICAgICAgICAgICAgZXh0cmFDbGFzc2VzOiAnZmEtcm90YXRlLTAnCiAgICAgICAgICAgICAgICAgICAgfSk7CiAgICAgICAgICAgICAgICBtYXJrZXJfYjNhMTY5YWI2NmU2NGVlOTg3NDgwZGViMDVjYzhlYjcuc2V0SWNvbihpY29uX2JkMGU2ZGUzMWY4ZDRiZjdiNmYxY2M1ZjIxMmRlNDQxKTsKICAgICAgICAgICAgCiAgICAKICAgICAgICAgICAgdmFyIHBvcHVwXzRiOTkzYmYxZTM4ZDQ4MTE4M2QxZWVlOWViZTQ2OTJhID0gTC5wb3B1cCh7bWF4V2lkdGg6ICczMDAnfSk7CgogICAgICAgICAgICAKICAgICAgICAgICAgICAgIHZhciBodG1sXzEzYjg0YTMyZWJhNjRjYzM5ZWY0NDJiNDg1YzUyNGRlID0gJCgnPGRpdiBpZD0iaHRtbF8xM2I4NGEzMmViYTY0Y2MzOWVmNDQyYjQ4NWM1MjRkZSIgc3R5bGU9IndpZHRoOiAxMDAuMCU7IGhlaWdodDogMTAwLjAlOyI+T1dUPC9kaXY+JylbMF07CiAgICAgICAgICAgICAgICBwb3B1cF80Yjk5M2JmMWUzOGQ0ODExODNkMWVlZTllYmU0NjkyYS5zZXRDb250ZW50KGh0bWxfMTNiODRhMzJlYmE2NGNjMzllZjQ0MmI0ODVjNTI0ZGUpOwogICAgICAgICAgICAKCiAgICAgICAgICAgIG1hcmtlcl9iM2ExNjlhYjY2ZTY0ZWU5ODc0ODBkZWIwNWNjOGViNy5iaW5kUG9wdXAocG9wdXBfNGI5OTNiZjFlMzhkNDgxMTgzZDFlZWU5ZWJlNDY5MmEpOwoKICAgICAgICAgICAgCiAgICAgICAgCiAgICAKCiAgICAgICAgICAgIHZhciBtYXJrZXJfM2VhYTMzYTRhZmZlNGE1YTkyNzJiMjY1ZDIxOTY1NjcgPSBMLm1hcmtlcigKICAgICAgICAgICAgICAgIFstMjMuNjYyMzk1MiwtNzAuMzk2MTExN10sCiAgICAgICAgICAgICAgICB7CiAgICAgICAgICAgICAgICAgICAgaWNvbjogbmV3IEwuSWNvbi5EZWZhdWx0KCkKICAgICAgICAgICAgICAgICAgICB9CiAgICAgICAgICAgICAgICApCiAgICAgICAgICAgICAgICAuYWRkVG8oZmVhdHVyZV9ncm91cF80NzY2MWVjMWMwZmQ0YzU2Yjc5ZGNjZGRhNjdmNGI4Yik7CiAgICAgICAgICAgIAogICAgCgogICAgICAgICAgICAgICAgdmFyIGljb25fNDEzMjcxZjZkM2IyNGQwMmE2YTg4YTgwOTc1YWQyMzEgPSBMLkF3ZXNvbWVNYXJrZXJzLmljb24oewogICAgICAgICAgICAgICAgICAgIGljb246ICdpbmZvLXNpZ24nLAogICAgICAgICAgICAgICAgICAgIGljb25Db2xvcjogJ3doaXRlJywKICAgICAgICAgICAgICAgICAgICBtYXJrZXJDb2xvcjogJ2JsdWUnLAogICAgICAgICAgICAgICAgICAgIHByZWZpeDogJ2dseXBoaWNvbicsCiAgICAgICAgICAgICAgICAgICAgZXh0cmFDbGFzc2VzOiAnZmEtcm90YXRlLTAnCiAgICAgICAgICAgICAgICAgICAgfSk7CiAgICAgICAgICAgICAgICBtYXJrZXJfM2VhYTMzYTRhZmZlNGE1YTkyNzJiMjY1ZDIxOTY1Njcuc2V0SWNvbihpY29uXzQxMzI3MWY2ZDNiMjRkMDJhNmE4OGE4MDk3NWFkMjMxKTsKICAgICAgICAgICAgCiAgICAKICAgICAgICAgICAgdmFyIHBvcHVwXzI0YTg2NWZiMDQ2NjRkNTliYjI2NjRjMDNjZTY2OTZhID0gTC5wb3B1cCh7bWF4V2lkdGg6ICczMDAnfSk7CgogICAgICAgICAgICAKICAgICAgICAgICAgICAgIHZhciBodG1sX2YxZGExOTJlMTUwZTQ5NTU4YzdiYTJmYjc0M2RmMzRlID0gJCgnPGRpdiBpZD0iaHRtbF9mMWRhMTkyZTE1MGU0OTU1OGM3YmEyZmI3NDNkZjM0ZSIgc3R5bGU9IndpZHRoOiAxMDAuMCU7IGhlaWdodDogMTAwLjAlOyI+Q2hhcmx5PC9kaXY+JylbMF07CiAgICAgICAgICAgICAgICBwb3B1cF8yNGE4NjVmYjA0NjY0ZDU5YmIyNjY0YzAzY2U2Njk2YS5zZXRDb250ZW50KGh0bWxfZjFkYTE5MmUxNTBlNDk1NThjN2JhMmZiNzQzZGYzNGUpOwogICAgICAgICAgICAKCiAgICAgICAgICAgIG1hcmtlcl8zZWFhMzNhNGFmZmU0YTVhOTI3MmIyNjVkMjE5NjU2Ny5iaW5kUG9wdXAocG9wdXBfMjRhODY1ZmIwNDY2NGQ1OWJiMjY2NGMwM2NlNjY5NmEpOwoKICAgICAgICAgICAgCiAgICAgICAgCiAgICAKCiAgICAgICAgICAgIHZhciBtYXJrZXJfYjFiYjJjNTZkNmNmNGNlNGJlYTRiYThhODcxNjBkODIgPSBMLm1hcmtlcigKICAgICAgICAgICAgICAgIFstMjMuNjM4MzUxLC03MC4zODc1NTU5XSwKICAgICAgICAgICAgICAgIHsKICAgICAgICAgICAgICAgICAgICBpY29uOiBuZXcgTC5JY29uLkRlZmF1bHQoKQogICAgICAgICAgICAgICAgICAgIH0KICAgICAgICAgICAgICAgICkKICAgICAgICAgICAgICAgIC5hZGRUbyhmZWF0dXJlX2dyb3VwXzQ3NjYxZWMxYzBmZDRjNTZiNzlkY2NkZGE2N2Y0YjhiKTsKICAgICAgICAgICAgCiAgICAKCiAgICAgICAgICAgICAgICB2YXIgaWNvbl9jNDFhODUwOTM1N2I0ZGJmYjI0NzZiYjcwYWQ0OGVhYyA9IEwuQXdlc29tZU1hcmtlcnMuaWNvbih7CiAgICAgICAgICAgICAgICAgICAgaWNvbjogJ2luZm8tc2lnbicsCiAgICAgICAgICAgICAgICAgICAgaWNvbkNvbG9yOiAnd2hpdGUnLAogICAgICAgICAgICAgICAgICAgIG1hcmtlckNvbG9yOiAnYmx1ZScsCiAgICAgICAgICAgICAgICAgICAgcHJlZml4OiAnZ2x5cGhpY29uJywKICAgICAgICAgICAgICAgICAgICBleHRyYUNsYXNzZXM6ICdmYS1yb3RhdGUtMCcKICAgICAgICAgICAgICAgICAgICB9KTsKICAgICAgICAgICAgICAgIG1hcmtlcl9iMWJiMmM1NmQ2Y2Y0Y2U0YmVhNGJhOGE4NzE2MGQ4Mi5zZXRJY29uKGljb25fYzQxYTg1MDkzNTdiNGRiZmIyNDc2YmI3MGFkNDhlYWMpOwogICAgICAgICAgICAKICAgIAogICAgICAgICAgICB2YXIgcG9wdXBfMDJjNmMyNDJmNDZiNDhjNWE1ZjFlN2NhNDExNmY3ZTYgPSBMLnBvcHVwKHttYXhXaWR0aDogJzMwMCd9KTsKCiAgICAgICAgICAgIAogICAgICAgICAgICAgICAgdmFyIGh0bWxfMDM4M2Q5MTgwZjYyNDA4Mzk1NmExMDc1Y2E3YTUzNmUgPSAkKCc8ZGl2IGlkPSJodG1sXzAzODNkOTE4MGY2MjQwODM5NTZhMTA3NWNhN2E1MzZlIiBzdHlsZT0id2lkdGg6IDEwMC4wJTsgaGVpZ2h0OiAxMDAuMCU7Ij5KZW5uaWZlciBBcmNlIDwvZGl2PicpWzBdOwogICAgICAgICAgICAgICAgcG9wdXBfMDJjNmMyNDJmNDZiNDhjNWE1ZjFlN2NhNDExNmY3ZTYuc2V0Q29udGVudChodG1sXzAzODNkOTE4MGY2MjQwODM5NTZhMTA3NWNhN2E1MzZlKTsKICAgICAgICAgICAgCgogICAgICAgICAgICBtYXJrZXJfYjFiYjJjNTZkNmNmNGNlNGJlYTRiYThhODcxNjBkODIuYmluZFBvcHVwKHBvcHVwXzAyYzZjMjQyZjQ2YjQ4YzVhNWYxZTdjYTQxMTZmN2U2KTsKCiAgICAgICAgICAgIAogICAgICAgIAogICAgCgogICAgICAgICAgICB2YXIgbWFya2VyX2FkZTcwZDlmMzUzNTRkZTRhNGEyY2ViNTNkY2NjZDMxID0gTC5tYXJrZXIoCiAgICAgICAgICAgICAgICBbLTIzLjY5Nzg0ODksLTcwLjQxMDQ3MzZdLAogICAgICAgICAgICAgICAgewogICAgICAgICAgICAgICAgICAgIGljb246IG5ldyBMLkljb24uRGVmYXVsdCgpCiAgICAgICAgICAgICAgICAgICAgfQogICAgICAgICAgICAgICAgKQogICAgICAgICAgICAgICAgLmFkZFRvKGZlYXR1cmVfZ3JvdXBfNDc2NjFlYzFjMGZkNGM1NmI3OWRjY2RkYTY3ZjRiOGIpOwogICAgICAgICAgICAKICAgIAoKICAgICAgICAgICAgICAgIHZhciBpY29uX2UwNzg4N2Q4YTRkMjRiMTg5ZDM5YjE3YjYwNTdjNDE4ID0gTC5Bd2Vzb21lTWFya2Vycy5pY29uKHsKICAgICAgICAgICAgICAgICAgICBpY29uOiAnaW5mby1zaWduJywKICAgICAgICAgICAgICAgICAgICBpY29uQ29sb3I6ICd3aGl0ZScsCiAgICAgICAgICAgICAgICAgICAgbWFya2VyQ29sb3I6ICdibHVlJywKICAgICAgICAgICAgICAgICAgICBwcmVmaXg6ICdnbHlwaGljb24nLAogICAgICAgICAgICAgICAgICAgIGV4dHJhQ2xhc3NlczogJ2ZhLXJvdGF0ZS0wJwogICAgICAgICAgICAgICAgICAgIH0pOwogICAgICAgICAgICAgICAgbWFya2VyX2FkZTcwZDlmMzUzNTRkZTRhNGEyY2ViNTNkY2NjZDMxLnNldEljb24oaWNvbl9lMDc4ODdkOGE0ZDI0YjE4OWQzOWIxN2I2MDU3YzQxOCk7CiAgICAgICAgICAgIAogICAgCiAgICAgICAgICAgIHZhciBwb3B1cF81NjdlOTAxNDgxYzQ0MzU2YjA1YjliMTBlYzJkOGVhOCA9IEwucG9wdXAoe21heFdpZHRoOiAnMzAwJ30pOwoKICAgICAgICAgICAgCiAgICAgICAgICAgICAgICB2YXIgaHRtbF9jMGY1NmE0MzAxOTY0NTI0OWFjZWM0OTRmZjVkMjM0MyA9ICQoJzxkaXYgaWQ9Imh0bWxfYzBmNTZhNDMwMTk2NDUyNDlhY2VjNDk0ZmY1ZDIzNDMiIHN0eWxlPSJ3aWR0aDogMTAwLjAlOyBoZWlnaHQ6IDEwMC4wJTsiPlBhdWxpbmE8L2Rpdj4nKVswXTsKICAgICAgICAgICAgICAgIHBvcHVwXzU2N2U5MDE0ODFjNDQzNTZiMDViOWIxMGVjMmQ4ZWE4LnNldENvbnRlbnQoaHRtbF9jMGY1NmE0MzAxOTY0NTI0OWFjZWM0OTRmZjVkMjM0Myk7CiAgICAgICAgICAgIAoKICAgICAgICAgICAgbWFya2VyX2FkZTcwZDlmMzUzNTRkZTRhNGEyY2ViNTNkY2NjZDMxLmJpbmRQb3B1cChwb3B1cF81NjdlOTAxNDgxYzQ0MzU2YjA1YjliMTBlYzJkOGVhOCk7CgogICAgICAgICAgICAKICAgICAgICAKICAgIAoKICAgICAgICAgICAgdmFyIG1hcmtlcl82NGZmZTQzZDU5ZDk0MTdhOTNjMzVkNTFiOGFkYzNmMiA9IEwubWFya2VyKAogICAgICAgICAgICAgICAgWy0yMy42OTY2OTE0LC03MC40MDcxNjE2XSwKICAgICAgICAgICAgICAgIHsKICAgICAgICAgICAgICAgICAgICBpY29uOiBuZXcgTC5JY29uLkRlZmF1bHQoKQogICAgICAgICAgICAgICAgICAgIH0KICAgICAgICAgICAgICAgICkKICAgICAgICAgICAgICAgIC5hZGRUbyhmZWF0dXJlX2dyb3VwXzQ3NjYxZWMxYzBmZDRjNTZiNzlkY2NkZGE2N2Y0YjhiKTsKICAgICAgICAgICAgCiAgICAKCiAgICAgICAgICAgICAgICB2YXIgaWNvbl8xOTE3NDNmMDkzOWE0MWI5ODcwMGI1MmQxMzgwNzk0MiA9IEwuQXdlc29tZU1hcmtlcnMuaWNvbih7CiAgICAgICAgICAgICAgICAgICAgaWNvbjogJ2luZm8tc2lnbicsCiAgICAgICAgICAgICAgICAgICAgaWNvbkNvbG9yOiAnd2hpdGUnLAogICAgICAgICAgICAgICAgICAgIG1hcmtlckNvbG9yOiAnYmx1ZScsCiAgICAgICAgICAgICAgICAgICAgcHJlZml4OiAnZ2x5cGhpY29uJywKICAgICAgICAgICAgICAgICAgICBleHRyYUNsYXNzZXM6ICdmYS1yb3RhdGUtMCcKICAgICAgICAgICAgICAgICAgICB9KTsKICAgICAgICAgICAgICAgIG1hcmtlcl82NGZmZTQzZDU5ZDk0MTdhOTNjMzVkNTFiOGFkYzNmMi5zZXRJY29uKGljb25fMTkxNzQzZjA5MzlhNDFiOTg3MDBiNTJkMTM4MDc5NDIpOwogICAgICAgICAgICAKICAgIAogICAgICAgICAgICB2YXIgcG9wdXBfN2FhODdjMDBkNGIwNDQ1Y2E3ZGI4ZjgyNThjYjAyNTUgPSBMLnBvcHVwKHttYXhXaWR0aDogJzMwMCd9KTsKCiAgICAgICAgICAgIAogICAgICAgICAgICAgICAgdmFyIGh0bWxfMDIyODk2Yjc0MzA3NDAzZDkyYmE2ZjJlNjQ0MTRkYWEgPSAkKCc8ZGl2IGlkPSJodG1sXzAyMjg5NmI3NDMwNzQwM2Q5MmJhNmYyZTY0NDE0ZGFhIiBzdHlsZT0id2lkdGg6IDEwMC4wJTsgaGVpZ2h0OiAxMDAuMCU7Ij5BcmFtaTwvZGl2PicpWzBdOwogICAgICAgICAgICAgICAgcG9wdXBfN2FhODdjMDBkNGIwNDQ1Y2E3ZGI4ZjgyNThjYjAyNTUuc2V0Q29udGVudChodG1sXzAyMjg5NmI3NDMwNzQwM2Q5MmJhNmYyZTY0NDE0ZGFhKTsKICAgICAgICAgICAgCgogICAgICAgICAgICBtYXJrZXJfNjRmZmU0M2Q1OWQ5NDE3YTkzYzM1ZDUxYjhhZGMzZjIuYmluZFBvcHVwKHBvcHVwXzdhYTg3YzAwZDRiMDQ0NWNhN2RiOGY4MjU4Y2IwMjU1KTsKCiAgICAgICAgICAgIAogICAgICAgIAogICAgCgogICAgICAgICAgICB2YXIgbWFya2VyXzM3ZTZhYWJmYmVmMTRhZDQ4NWFiZGUyZTNiMmMwODQyID0gTC5tYXJrZXIoCiAgICAgICAgICAgICAgICBbLTIzLjY5NjIzMDIsLTcwLjQwNzEzMjE5OTk5OTk5XSwKICAgICAgICAgICAgICAgIHsKICAgICAgICAgICAgICAgICAgICBpY29uOiBuZXcgTC5JY29uLkRlZmF1bHQoKQogICAgICAgICAgICAgICAgICAgIH0KICAgICAgICAgICAgICAgICkKICAgICAgICAgICAgICAgIC5hZGRUbyhmZWF0dXJlX2dyb3VwXzQ3NjYxZWMxYzBmZDRjNTZiNzlkY2NkZGE2N2Y0YjhiKTsKICAgICAgICAgICAgCiAgICAKCiAgICAgICAgICAgICAgICB2YXIgaWNvbl9lNjdiY2YwMWQ5MWI0YzUwYTI0NjVlYzQwOGUwNmI2MiA9IEwuQXdlc29tZU1hcmtlcnMuaWNvbih7CiAgICAgICAgICAgICAgICAgICAgaWNvbjogJ2luZm8tc2lnbicsCiAgICAgICAgICAgICAgICAgICAgaWNvbkNvbG9yOiAnd2hpdGUnLAogICAgICAgICAgICAgICAgICAgIG1hcmtlckNvbG9yOiAnYmx1ZScsCiAgICAgICAgICAgICAgICAgICAgcHJlZml4OiAnZ2x5cGhpY29uJywKICAgICAgICAgICAgICAgICAgICBleHRyYUNsYXNzZXM6ICdmYS1yb3RhdGUtMCcKICAgICAgICAgICAgICAgICAgICB9KTsKICAgICAgICAgICAgICAgIG1hcmtlcl8zN2U2YWFiZmJlZjE0YWQ0ODVhYmRlMmUzYjJjMDg0Mi5zZXRJY29uKGljb25fZTY3YmNmMDFkOTFiNGM1MGEyNDY1ZWM0MDhlMDZiNjIpOwogICAgICAgICAgICAKICAgIAogICAgICAgICAgICB2YXIgcG9wdXBfZTliMjhiOWU4MzI0NGFmYjkwMWY3YmZkZDg0YzIwYzcgPSBMLnBvcHVwKHttYXhXaWR0aDogJzMwMCd9KTsKCiAgICAgICAgICAgIAogICAgICAgICAgICAgICAgdmFyIGh0bWxfYzQzZjNkNjY2NjdiNDEzZGI5ZWFlMjBkMzYwOGQ1NTQgPSAkKCc8ZGl2IGlkPSJodG1sX2M0M2YzZDY2NjY3YjQxM2RiOWVhZTIwZDM2MDhkNTU0IiBzdHlsZT0id2lkdGg6IDEwMC4wJTsgaGVpZ2h0OiAxMDAuMCU7Ij5EYW5pZWwgZWwgdHJhdmllc288L2Rpdj4nKVswXTsKICAgICAgICAgICAgICAgIHBvcHVwX2U5YjI4YjllODMyNDRhZmI5MDFmN2JmZGQ4NGMyMGM3LnNldENvbnRlbnQoaHRtbF9jNDNmM2Q2NjY2N2I0MTNkYjllYWUyMGQzNjA4ZDU1NCk7CiAgICAgICAgICAgIAoKICAgICAgICAgICAgbWFya2VyXzM3ZTZhYWJmYmVmMTRhZDQ4NWFiZGUyZTNiMmMwODQyLmJpbmRQb3B1cChwb3B1cF9lOWIyOGI5ZTgzMjQ0YWZiOTAxZjdiZmRkODRjMjBjNyk7CgogICAgICAgICAgICAKICAgICAgICAKICAgIAoKICAgICAgICAgICAgdmFyIG1hcmtlcl8wMTZmZWQwM2VlNmI0ZTViYTY1YzcxNDY1MDc4ZGJkMyA9IEwubWFya2VyKAogICAgICAgICAgICAgICAgWy0yMy42OTYxOTEyLC03MC40MDcyNDcyXSwKICAgICAgICAgICAgICAgIHsKICAgICAgICAgICAgICAgICAgICBpY29uOiBuZXcgTC5JY29uLkRlZmF1bHQoKQogICAgICAgICAgICAgICAgICAgIH0KICAgICAgICAgICAgICAgICkKICAgICAgICAgICAgICAgIC5hZGRUbyhmZWF0dXJlX2dyb3VwXzQ3NjYxZWMxYzBmZDRjNTZiNzlkY2NkZGE2N2Y0YjhiKTsKICAgICAgICAgICAgCiAgICAKCiAgICAgICAgICAgICAgICB2YXIgaWNvbl80OTJiMGUxNDZmZDY0ODUxYTIxZDE5MDNiYzFlZDMwMCA9IEwuQXdlc29tZU1hcmtlcnMuaWNvbih7CiAgICAgICAgICAgICAgICAgICAgaWNvbjogJ2luZm8tc2lnbicsCiAgICAgICAgICAgICAgICAgICAgaWNvbkNvbG9yOiAnd2hpdGUnLAogICAgICAgICAgICAgICAgICAgIG1hcmtlckNvbG9yOiAnYmx1ZScsCiAgICAgICAgICAgICAgICAgICAgcHJlZml4OiAnZ2x5cGhpY29uJywKICAgICAgICAgICAgICAgICAgICBleHRyYUNsYXNzZXM6ICdmYS1yb3RhdGUtMCcKICAgICAgICAgICAgICAgICAgICB9KTsKICAgICAgICAgICAgICAgIG1hcmtlcl8wMTZmZWQwM2VlNmI0ZTViYTY1YzcxNDY1MDc4ZGJkMy5zZXRJY29uKGljb25fNDkyYjBlMTQ2ZmQ2NDg1MWEyMWQxOTAzYmMxZWQzMDApOwogICAgICAgICAgICAKICAgIAogICAgICAgICAgICB2YXIgcG9wdXBfMjc0YzJhMTA4NGUxNDRhN2E3OWU1NGUwM2IxYmQzOTEgPSBMLnBvcHVwKHttYXhXaWR0aDogJzMwMCd9KTsKCiAgICAgICAgICAgIAogICAgICAgICAgICAgICAgdmFyIGh0bWxfMzY4YTdjOGJlYTY3NDFkNjlkM2JjYzFlYmUyZDMwYTYgPSAkKCc8ZGl2IGlkPSJodG1sXzM2OGE3YzhiZWE2NzQxZDY5ZDNiY2MxZWJlMmQzMGE2IiBzdHlsZT0id2lkdGg6IDEwMC4wJTsgaGVpZ2h0OiAxMDAuMCU7Ij5DYXJtZWxvIFR1bGlvPC9kaXY+JylbMF07CiAgICAgICAgICAgICAgICBwb3B1cF8yNzRjMmExMDg0ZTE0NGE3YTc5ZTU0ZTAzYjFiZDM5MS5zZXRDb250ZW50KGh0bWxfMzY4YTdjOGJlYTY3NDFkNjlkM2JjYzFlYmUyZDMwYTYpOwogICAgICAgICAgICAKCiAgICAgICAgICAgIG1hcmtlcl8wMTZmZWQwM2VlNmI0ZTViYTY1YzcxNDY1MDc4ZGJkMy5iaW5kUG9wdXAocG9wdXBfMjc0YzJhMTA4NGUxNDRhN2E3OWU1NGUwM2IxYmQzOTEpOwoKICAgICAgICAgICAgCiAgICAgICAgCiAgICAKCiAgICAgICAgICAgIHZhciBtYXJrZXJfOTVjOGY2NjRkZmY3NDEyMDljNzNmNTE1NmVmMTZmMDQgPSBMLm1hcmtlcigKICAgICAgICAgICAgICAgIFstMjMuNjk1MjUxNSwtNzAuNDIwMDY5M10sCiAgICAgICAgICAgICAgICB7CiAgICAgICAgICAgICAgICAgICAgaWNvbjogbmV3IEwuSWNvbi5EZWZhdWx0KCkKICAgICAgICAgICAgICAgICAgICB9CiAgICAgICAgICAgICAgICApCiAgICAgICAgICAgICAgICAuYWRkVG8oZmVhdHVyZV9ncm91cF80NzY2MWVjMWMwZmQ0YzU2Yjc5ZGNjZGRhNjdmNGI4Yik7CiAgICAgICAgICAgIAogICAgCgogICAgICAgICAgICAgICAgdmFyIGljb25fODlkYThkMjcyOTg2NGIzZDk4ZmRjOGQzYWM2MmYzYzggPSBMLkF3ZXNvbWVNYXJrZXJzLmljb24oewogICAgICAgICAgICAgICAgICAgIGljb246ICdpbmZvLXNpZ24nLAogICAgICAgICAgICAgICAgICAgIGljb25Db2xvcjogJ3doaXRlJywKICAgICAgICAgICAgICAgICAgICBtYXJrZXJDb2xvcjogJ2JsdWUnLAogICAgICAgICAgICAgICAgICAgIHByZWZpeDogJ2dseXBoaWNvbicsCiAgICAgICAgICAgICAgICAgICAgZXh0cmFDbGFzc2VzOiAnZmEtcm90YXRlLTAnCiAgICAgICAgICAgICAgICAgICAgfSk7CiAgICAgICAgICAgICAgICBtYXJrZXJfOTVjOGY2NjRkZmY3NDEyMDljNzNmNTE1NmVmMTZmMDQuc2V0SWNvbihpY29uXzg5ZGE4ZDI3Mjk4NjRiM2Q5OGZkYzhkM2FjNjJmM2M4KTsKICAgICAgICAgICAgCiAgICAKICAgICAgICAgICAgdmFyIHBvcHVwXzVlMTFiODRhZjFlNDRmNmU4OTY0M2M5NDg2ZTBjOGYzID0gTC5wb3B1cCh7bWF4V2lkdGg6ICczMDAnfSk7CgogICAgICAgICAgICAKICAgICAgICAgICAgICAgIHZhciBodG1sX2YyNDJiM2U1MjBhNDQyNGE5YTBkOGY2OWE1OTEzYmYxID0gJCgnPGRpdiBpZD0iaHRtbF9mMjQyYjNlNTIwYTQ0MjRhOWEwZDhmNjlhNTkxM2JmMSIgc3R5bGU9IndpZHRoOiAxMDAuMCU7IGhlaWdodDogMTAwLjAlOyI+bm9ubzwvZGl2PicpWzBdOwogICAgICAgICAgICAgICAgcG9wdXBfNWUxMWI4NGFmMWU0NGY2ZTg5NjQzYzk0ODZlMGM4ZjMuc2V0Q29udGVudChodG1sX2YyNDJiM2U1MjBhNDQyNGE5YTBkOGY2OWE1OTEzYmYxKTsKICAgICAgICAgICAgCgogICAgICAgICAgICBtYXJrZXJfOTVjOGY2NjRkZmY3NDEyMDljNzNmNTE1NmVmMTZmMDQuYmluZFBvcHVwKHBvcHVwXzVlMTFiODRhZjFlNDRmNmU4OTY0M2M5NDg2ZTBjOGYzKTsKCiAgICAgICAgICAgIAogICAgICAgIAogICAgCgogICAgICAgICAgICB2YXIgbWFya2VyX2JjOWQ5NzE2N2RmYTQ4NWJiZjQ1M2U5ZWU0ZjFhMmExID0gTC5tYXJrZXIoCiAgICAgICAgICAgICAgICBbLTIzLjU4NzI4NDIsLTcwLjM4OTEyMDhdLAogICAgICAgICAgICAgICAgewogICAgICAgICAgICAgICAgICAgIGljb246IG5ldyBMLkljb24uRGVmYXVsdCgpCiAgICAgICAgICAgICAgICAgICAgfQogICAgICAgICAgICAgICAgKQogICAgICAgICAgICAgICAgLmFkZFRvKGZlYXR1cmVfZ3JvdXBfNDc2NjFlYzFjMGZkNGM1NmI3OWRjY2RkYTY3ZjRiOGIpOwogICAgICAgICAgICAKICAgIAoKICAgICAgICAgICAgICAgIHZhciBpY29uXzBmMGJlNzRkZjdhZjQ4YzM4NWQxMzVhZTg3MzBiNzViID0gTC5Bd2Vzb21lTWFya2Vycy5pY29uKHsKICAgICAgICAgICAgICAgICAgICBpY29uOiAnaW5mby1zaWduJywKICAgICAgICAgICAgICAgICAgICBpY29uQ29sb3I6ICd3aGl0ZScsCiAgICAgICAgICAgICAgICAgICAgbWFya2VyQ29sb3I6ICdibHVlJywKICAgICAgICAgICAgICAgICAgICBwcmVmaXg6ICdnbHlwaGljb24nLAogICAgICAgICAgICAgICAgICAgIGV4dHJhQ2xhc3NlczogJ2ZhLXJvdGF0ZS0wJwogICAgICAgICAgICAgICAgICAgIH0pOwogICAgICAgICAgICAgICAgbWFya2VyX2JjOWQ5NzE2N2RmYTQ4NWJiZjQ1M2U5ZWU0ZjFhMmExLnNldEljb24oaWNvbl8wZjBiZTc0ZGY3YWY0OGMzODVkMTM1YWU4NzMwYjc1Yik7CiAgICAgICAgICAgIAogICAgCiAgICAgICAgICAgIHZhciBwb3B1cF8xYjU0MThjYTJlOGU0MTkyYmRmMzBmZGY2MzlmMTE4ZiA9IEwucG9wdXAoe21heFdpZHRoOiAnMzAwJ30pOwoKICAgICAgICAgICAgCiAgICAgICAgICAgICAgICB2YXIgaHRtbF84OWJmODcxMjRkM2Q0YWYxOTdlYTdlMmNmMzNjMDkwNyA9ICQoJzxkaXYgaWQ9Imh0bWxfODliZjg3MTI0ZDNkNGFmMTk3ZWE3ZTJjZjMzYzA5MDciIHN0eWxlPSJ3aWR0aDogMTAwLjAlOyBoZWlnaHQ6IDEwMC4wJTsiPlBhYmxvIEVzY29iYXI8L2Rpdj4nKVswXTsKICAgICAgICAgICAgICAgIHBvcHVwXzFiNTQxOGNhMmU4ZTQxOTJiZGYzMGZkZjYzOWYxMThmLnNldENvbnRlbnQoaHRtbF84OWJmODcxMjRkM2Q0YWYxOTdlYTdlMmNmMzNjMDkwNyk7CiAgICAgICAgICAgIAoKICAgICAgICAgICAgbWFya2VyX2JjOWQ5NzE2N2RmYTQ4NWJiZjQ1M2U5ZWU0ZjFhMmExLmJpbmRQb3B1cChwb3B1cF8xYjU0MThjYTJlOGU0MTkyYmRmMzBmZGY2MzlmMTE4Zik7CgogICAgICAgICAgICAKICAgICAgICAKICAgIAoKICAgICAgICAgICAgdmFyIG1hcmtlcl9iYTFjM2Y4MWNiMjY0ODIxOGUxYWQ1YjY5OGY5N2FhYiA9IEwubWFya2VyKAogICAgICAgICAgICAgICAgWy0yMy42OTc5MywtNzAuNDEzMTkwMV0sCiAgICAgICAgICAgICAgICB7CiAgICAgICAgICAgICAgICAgICAgaWNvbjogbmV3IEwuSWNvbi5EZWZhdWx0KCkKICAgICAgICAgICAgICAgICAgICB9CiAgICAgICAgICAgICAgICApCiAgICAgICAgICAgICAgICAuYWRkVG8oZmVhdHVyZV9ncm91cF80NzY2MWVjMWMwZmQ0YzU2Yjc5ZGNjZGRhNjdmNGI4Yik7CiAgICAgICAgICAgIAogICAgCgogICAgICAgICAgICAgICAgdmFyIGljb25fYjA5YThjZjFiZTQ1NGY2MGFjY2I3NGExNWRlZWI2MjMgPSBMLkF3ZXNvbWVNYXJrZXJzLmljb24oewogICAgICAgICAgICAgICAgICAgIGljb246ICdpbmZvLXNpZ24nLAogICAgICAgICAgICAgICAgICAgIGljb25Db2xvcjogJ3doaXRlJywKICAgICAgICAgICAgICAgICAgICBtYXJrZXJDb2xvcjogJ2JsdWUnLAogICAgICAgICAgICAgICAgICAgIHByZWZpeDogJ2dseXBoaWNvbicsCiAgICAgICAgICAgICAgICAgICAgZXh0cmFDbGFzc2VzOiAnZmEtcm90YXRlLTAnCiAgICAgICAgICAgICAgICAgICAgfSk7CiAgICAgICAgICAgICAgICBtYXJrZXJfYmExYzNmODFjYjI2NDgyMThlMWFkNWI2OThmOTdhYWIuc2V0SWNvbihpY29uX2IwOWE4Y2YxYmU0NTRmNjBhY2NiNzRhMTVkZWViNjIzKTsKICAgICAgICAgICAgCiAgICAKICAgICAgICAgICAgdmFyIHBvcHVwXzM5MzhkMGQ1YjAxZTRkZjM4NDFmM2IyNmI4ZDQyNjRlID0gTC5wb3B1cCh7bWF4V2lkdGg6ICczMDAnfSk7CgogICAgICAgICAgICAKICAgICAgICAgICAgICAgIHZhciBodG1sXzVlMjViNDZhZDkyYTQ1ZjlhMWY0NDRlYzAzMzExZTM4ID0gJCgnPGRpdiBpZD0iaHRtbF81ZTI1YjQ2YWQ5MmE0NWY5YTFmNDQ0ZWMwMzMxMWUzOCIgc3R5bGU9IndpZHRoOiAxMDAuMCU7IGhlaWdodDogMTAwLjAlOyI+THVpczwvZGl2PicpWzBdOwogICAgICAgICAgICAgICAgcG9wdXBfMzkzOGQwZDViMDFlNGRmMzg0MWYzYjI2YjhkNDI2NGUuc2V0Q29udGVudChodG1sXzVlMjViNDZhZDkyYTQ1ZjlhMWY0NDRlYzAzMzExZTM4KTsKICAgICAgICAgICAgCgogICAgICAgICAgICBtYXJrZXJfYmExYzNmODFjYjI2NDgyMThlMWFkNWI2OThmOTdhYWIuYmluZFBvcHVwKHBvcHVwXzM5MzhkMGQ1YjAxZTRkZjM4NDFmM2IyNmI4ZDQyNjRlKTsKCiAgICAgICAgICAgIAogICAgICAgIAogICAgCgogICAgICAgICAgICB2YXIgbWFya2VyX2QwZDhlNmYwMGEyMDRmMWM5ZWRiZjAzMmU0NTE2NDlkID0gTC5tYXJrZXIoCiAgICAgICAgICAgICAgICBbLTIzLjY0NjYyMzUsLTcwLjM5MDM2MzQ5OTk5OTk5XSwKICAgICAgICAgICAgICAgIHsKICAgICAgICAgICAgICAgICAgICBpY29uOiBuZXcgTC5JY29uLkRlZmF1bHQoKQogICAgICAgICAgICAgICAgICAgIH0KICAgICAgICAgICAgICAgICkKICAgICAgICAgICAgICAgIC5hZGRUbyhmZWF0dXJlX2dyb3VwXzQ3NjYxZWMxYzBmZDRjNTZiNzlkY2NkZGE2N2Y0YjhiKTsKICAgICAgICAgICAgCiAgICAKCiAgICAgICAgICAgICAgICB2YXIgaWNvbl9lMzlmNTI4YTZlZDU0YTQzYTg4MWY1ZTQwNTFlZjZiYiA9IEwuQXdlc29tZU1hcmtlcnMuaWNvbih7CiAgICAgICAgICAgICAgICAgICAgaWNvbjogJ2luZm8tc2lnbicsCiAgICAgICAgICAgICAgICAgICAgaWNvbkNvbG9yOiAnd2hpdGUnLAogICAgICAgICAgICAgICAgICAgIG1hcmtlckNvbG9yOiAnYmx1ZScsCiAgICAgICAgICAgICAgICAgICAgcHJlZml4OiAnZ2x5cGhpY29uJywKICAgICAgICAgICAgICAgICAgICBleHRyYUNsYXNzZXM6ICdmYS1yb3RhdGUtMCcKICAgICAgICAgICAgICAgICAgICB9KTsKICAgICAgICAgICAgICAgIG1hcmtlcl9kMGQ4ZTZmMDBhMjA0ZjFjOWVkYmYwMzJlNDUxNjQ5ZC5zZXRJY29uKGljb25fZTM5ZjUyOGE2ZWQ1NGE0M2E4ODFmNWU0MDUxZWY2YmIpOwogICAgICAgICAgICAKICAgIAogICAgICAgICAgICB2YXIgcG9wdXBfMzBkYzAyYTc3NDk0NDY0ZGIxMTk4MTc1ZmQ5NmFlZjkgPSBMLnBvcHVwKHttYXhXaWR0aDogJzMwMCd9KTsKCiAgICAgICAgICAgIAogICAgICAgICAgICAgICAgdmFyIGh0bWxfMTk0Yjg1MDhlMzFiNDExMjkzZGVlYjYzMDI3YmFhOTAgPSAkKCc8ZGl2IGlkPSJodG1sXzE5NGI4NTA4ZTMxYjQxMTI5M2RlZWI2MzAyN2JhYTkwIiBzdHlsZT0id2lkdGg6IDEwMC4wJTsgaGVpZ2h0OiAxMDAuMCU7Ij5LYXRoeTwvZGl2PicpWzBdOwogICAgICAgICAgICAgICAgcG9wdXBfMzBkYzAyYTc3NDk0NDY0ZGIxMTk4MTc1ZmQ5NmFlZjkuc2V0Q29udGVudChodG1sXzE5NGI4NTA4ZTMxYjQxMTI5M2RlZWI2MzAyN2JhYTkwKTsKICAgICAgICAgICAgCgogICAgICAgICAgICBtYXJrZXJfZDBkOGU2ZjAwYTIwNGYxYzllZGJmMDMyZTQ1MTY0OWQuYmluZFBvcHVwKHBvcHVwXzMwZGMwMmE3NzQ5NDQ2NGRiMTE5ODE3NWZkOTZhZWY5KTsKCiAgICAgICAgICAgIAogICAgICAgIAogICAgCgogICAgICAgICAgICB2YXIgbWFya2VyX2Y4NTk4NmQ0YTIzMjQyMDE5NzE3MDlkYTA1YzY1ODE4ID0gTC5tYXJrZXIoCiAgICAgICAgICAgICAgICBbLTIzLjU4ODM1MSwtNzAuMzg2NTcyNl0sCiAgICAgICAgICAgICAgICB7CiAgICAgICAgICAgICAgICAgICAgaWNvbjogbmV3IEwuSWNvbi5EZWZhdWx0KCkKICAgICAgICAgICAgICAgICAgICB9CiAgICAgICAgICAgICAgICApCiAgICAgICAgICAgICAgICAuYWRkVG8oZmVhdHVyZV9ncm91cF80NzY2MWVjMWMwZmQ0YzU2Yjc5ZGNjZGRhNjdmNGI4Yik7CiAgICAgICAgICAgIAogICAgCgogICAgICAgICAgICAgICAgdmFyIGljb25fN2M2MzA1YzYyZDYxNGM5NzlhMTM3ZTUxODk4YmI3ZmQgPSBMLkF3ZXNvbWVNYXJrZXJzLmljb24oewogICAgICAgICAgICAgICAgICAgIGljb246ICdpbmZvLXNpZ24nLAogICAgICAgICAgICAgICAgICAgIGljb25Db2xvcjogJ3doaXRlJywKICAgICAgICAgICAgICAgICAgICBtYXJrZXJDb2xvcjogJ2JsdWUnLAogICAgICAgICAgICAgICAgICAgIHByZWZpeDogJ2dseXBoaWNvbicsCiAgICAgICAgICAgICAgICAgICAgZXh0cmFDbGFzc2VzOiAnZmEtcm90YXRlLTAnCiAgICAgICAgICAgICAgICAgICAgfSk7CiAgICAgICAgICAgICAgICBtYXJrZXJfZjg1OTg2ZDRhMjMyNDIwMTk3MTcwOWRhMDVjNjU4MTguc2V0SWNvbihpY29uXzdjNjMwNWM2MmQ2MTRjOTc5YTEzN2U1MTg5OGJiN2ZkKTsKICAgICAgICAgICAgCiAgICAKICAgICAgICAgICAgdmFyIHBvcHVwXzM0ODFiNzUwODRhNjRjM2ZiYzRlODRkMWRmZDdlZGY4ID0gTC5wb3B1cCh7bWF4V2lkdGg6ICczMDAnfSk7CgogICAgICAgICAgICAKICAgICAgICAgICAgICAgIHZhciBodG1sX2Q1MTc1OTgwY2RlODRlNDQ4MzUzOWRjN2M3OWFiOTlkID0gJCgnPGRpdiBpZD0iaHRtbF9kNTE3NTk4MGNkZTg0ZTQ0ODM1MzlkYzdjNzlhYjk5ZCIgc3R5bGU9IndpZHRoOiAxMDAuMCU7IGhlaWdodDogMTAwLjAlOyI+Tmljb2xlPC9kaXY+JylbMF07CiAgICAgICAgICAgICAgICBwb3B1cF8zNDgxYjc1MDg0YTY0YzNmYmM0ZTg0ZDFkZmQ3ZWRmOC5zZXRDb250ZW50KGh0bWxfZDUxNzU5ODBjZGU4NGU0NDgzNTM5ZGM3Yzc5YWI5OWQpOwogICAgICAgICAgICAKCiAgICAgICAgICAgIG1hcmtlcl9mODU5ODZkNGEyMzI0MjAxOTcxNzA5ZGEwNWM2NTgxOC5iaW5kUG9wdXAocG9wdXBfMzQ4MWI3NTA4NGE2NGMzZmJjNGU4NGQxZGZkN2VkZjgpOwoKICAgICAgICAgICAgCiAgICAgICAgCiAgICAKCiAgICAgICAgICAgIHZhciBtYXJrZXJfNDAxNDhiZTI4NWU0NGZmNzhiODFlNzBjMTIxODdiZDQgPSBMLm1hcmtlcigKICAgICAgICAgICAgICAgIFstMjMuNjUzMzAzNSwtNzAuMzk1NDIxXSwKICAgICAgICAgICAgICAgIHsKICAgICAgICAgICAgICAgICAgICBpY29uOiBuZXcgTC5JY29uLkRlZmF1bHQoKQogICAgICAgICAgICAgICAgICAgIH0KICAgICAgICAgICAgICAgICkKICAgICAgICAgICAgICAgIC5hZGRUbyhmZWF0dXJlX2dyb3VwXzQ3NjYxZWMxYzBmZDRjNTZiNzlkY2NkZGE2N2Y0YjhiKTsKICAgICAgICAgICAgCiAgICAKCiAgICAgICAgICAgICAgICB2YXIgaWNvbl83ZWI0OWQxYjgzYTQ0ZTdmYWJjMTU2YTE0NGVjN2MyYSA9IEwuQXdlc29tZU1hcmtlcnMuaWNvbih7CiAgICAgICAgICAgICAgICAgICAgaWNvbjogJ2luZm8tc2lnbicsCiAgICAgICAgICAgICAgICAgICAgaWNvbkNvbG9yOiAnd2hpdGUnLAogICAgICAgICAgICAgICAgICAgIG1hcmtlckNvbG9yOiAnYmx1ZScsCiAgICAgICAgICAgICAgICAgICAgcHJlZml4OiAnZ2x5cGhpY29uJywKICAgICAgICAgICAgICAgICAgICBleHRyYUNsYXNzZXM6ICdmYS1yb3RhdGUtMCcKICAgICAgICAgICAgICAgICAgICB9KTsKICAgICAgICAgICAgICAgIG1hcmtlcl80MDE0OGJlMjg1ZTQ0ZmY3OGI4MWU3MGMxMjE4N2JkNC5zZXRJY29uKGljb25fN2ViNDlkMWI4M2E0NGU3ZmFiYzE1NmExNDRlYzdjMmEpOwogICAgICAgICAgICAKICAgIAogICAgICAgICAgICB2YXIgcG9wdXBfZmQ5MmMxMGY5YzE3NDRkODk0ZWNjODZjZjAyZThhMzggPSBMLnBvcHVwKHttYXhXaWR0aDogJzMwMCd9KTsKCiAgICAgICAgICAgIAogICAgICAgICAgICAgICAgdmFyIGh0bWxfODMxODU3ZTg1NjQ1NDFiM2FiZDUxYjQ1ZjkwY2UyYTYgPSAkKCc8ZGl2IGlkPSJodG1sXzgzMTg1N2U4NTY0NTQxYjNhYmQ1MWI0NWY5MGNlMmE2IiBzdHlsZT0id2lkdGg6IDEwMC4wJTsgaGVpZ2h0OiAxMDAuMCU7Ij5DcmlzdGlhbjwvZGl2PicpWzBdOwogICAgICAgICAgICAgICAgcG9wdXBfZmQ5MmMxMGY5YzE3NDRkODk0ZWNjODZjZjAyZThhMzguc2V0Q29udGVudChodG1sXzgzMTg1N2U4NTY0NTQxYjNhYmQ1MWI0NWY5MGNlMmE2KTsKICAgICAgICAgICAgCgogICAgICAgICAgICBtYXJrZXJfNDAxNDhiZTI4NWU0NGZmNzhiODFlNzBjMTIxODdiZDQuYmluZFBvcHVwKHBvcHVwX2ZkOTJjMTBmOWMxNzQ0ZDg5NGVjYzg2Y2YwMmU4YTM4KTsKCiAgICAgICAgICAgIAogICAgICAgIAogICAgCgogICAgICAgICAgICB2YXIgbWFya2VyXzg2MmU1NTA0YzY1YjQ4M2I5NTdiZDU1NmJjZmE3NGUyID0gTC5tYXJrZXIoCiAgICAgICAgICAgICAgICBbLTIzLjYzMDIzNzUsLTcwLjM5Mjg5OTldLAogICAgICAgICAgICAgICAgewogICAgICAgICAgICAgICAgICAgIGljb246IG5ldyBMLkljb24uRGVmYXVsdCgpCiAgICAgICAgICAgICAgICAgICAgfQogICAgICAgICAgICAgICAgKQogICAgICAgICAgICAgICAgLmFkZFRvKGZlYXR1cmVfZ3JvdXBfNDc2NjFlYzFjMGZkNGM1NmI3OWRjY2RkYTY3ZjRiOGIpOwogICAgICAgICAgICAKICAgIAoKICAgICAgICAgICAgICAgIHZhciBpY29uXzFlYzQ0YzYwZTM2ZDQ3MjI4NzZjMTUyNDUxNjUwYjg5ID0gTC5Bd2Vzb21lTWFya2Vycy5pY29uKHsKICAgICAgICAgICAgICAgICAgICBpY29uOiAnaW5mby1zaWduJywKICAgICAgICAgICAgICAgICAgICBpY29uQ29sb3I6ICd3aGl0ZScsCiAgICAgICAgICAgICAgICAgICAgbWFya2VyQ29sb3I6ICdibHVlJywKICAgICAgICAgICAgICAgICAgICBwcmVmaXg6ICdnbHlwaGljb24nLAogICAgICAgICAgICAgICAgICAgIGV4dHJhQ2xhc3NlczogJ2ZhLXJvdGF0ZS0wJwogICAgICAgICAgICAgICAgICAgIH0pOwogICAgICAgICAgICAgICAgbWFya2VyXzg2MmU1NTA0YzY1YjQ4M2I5NTdiZDU1NmJjZmE3NGUyLnNldEljb24oaWNvbl8xZWM0NGM2MGUzNmQ0NzIyODc2YzE1MjQ1MTY1MGI4OSk7CiAgICAgICAgICAgIAogICAgCiAgICAgICAgICAgIHZhciBwb3B1cF9iMGQ0NzUyMmI3MWQ0NmExYmEyZDUzMDBmOWYzZTY0NyA9IEwucG9wdXAoe21heFdpZHRoOiAnMzAwJ30pOwoKICAgICAgICAgICAgCiAgICAgICAgICAgICAgICB2YXIgaHRtbF8wYzQ0ZDIzOWRkMzI0MTMxOGM3Mzg4NzhlNzgxZWVhYiA9ICQoJzxkaXYgaWQ9Imh0bWxfMGM0NGQyMzlkZDMyNDEzMThjNzM4ODc4ZTc4MWVlYWIiIHN0eWxlPSJ3aWR0aDogMTAwLjAlOyBoZWlnaHQ6IDEwMC4wJTsiPk1pcmlhbTwvZGl2PicpWzBdOwogICAgICAgICAgICAgICAgcG9wdXBfYjBkNDc1MjJiNzFkNDZhMWJhMmQ1MzAwZjlmM2U2NDcuc2V0Q29udGVudChodG1sXzBjNDRkMjM5ZGQzMjQxMzE4YzczODg3OGU3ODFlZWFiKTsKICAgICAgICAgICAgCgogICAgICAgICAgICBtYXJrZXJfODYyZTU1MDRjNjViNDgzYjk1N2JkNTU2YmNmYTc0ZTIuYmluZFBvcHVwKHBvcHVwX2IwZDQ3NTIyYjcxZDQ2YTFiYTJkNTMwMGY5ZjNlNjQ3KTsKCiAgICAgICAgICAgIAogICAgICAgIAogICAgCiAgICAgICAgICAgIHZhciBmZWF0dXJlX2dyb3VwXzFiMGQ2NjMzNmIzMzRiZTNhMTFmYTY4OTI5NjVjYjEwID0gTC5mZWF0dXJlR3JvdXAoCiAgICAgICAgICAgICAgICApLmFkZFRvKG1hcF9kYzEyOWRjNjJmYmU0ZWM0YWM3OGYwOTg3YzM4ZDQ5Yik7CiAgICAgICAgCiAgICAKICAgICAgICAgICAgICAgIHZhciBwb2x5X2xpbmVfM2U0Y2IxYTk3ZmE3NGMxMmJhZjhhZTA3Y2U1OGMxNDQgPSBMLnBvbHlsaW5lKAogICAgICAgICAgICAgICAgICAgIFtbLTIzLjYyMTQzNjcsIC03MC4zOTAzNzA2XSwgWy0yMy42NzY1MTk5LCAtNzAuNDExNjc3M11dLAogICAgICAgICAgICAgICAgICAgIHsKICAiYnViYmxpbmdNb3VzZUV2ZW50cyI6IHRydWUsCiAgImNvbG9yIjogIiMzMzg4ZmYiLAogICJkYXNoQXJyYXkiOiBudWxsLAogICJkYXNoT2Zmc2V0IjogbnVsbCwKICAiZmlsbCI6IGZhbHNlLAogICJmaWxsQ29sb3IiOiAiIzMzODhmZiIsCiAgImZpbGxPcGFjaXR5IjogMC4yLAogICJmaWxsUnVsZSI6ICJldmVub2RkIiwKICAibGluZUNhcCI6ICJyb3VuZCIsCiAgImxpbmVKb2luIjogInJvdW5kIiwKICAibm9DbGlwIjogZmFsc2UsCiAgIm9wYWNpdHkiOiAxLjAsCiAgInNtb290aEZhY3RvciI6IDEuMCwKICAic3Ryb2tlIjogdHJ1ZSwKICAid2VpZ2h0IjogNQp9KS5hZGRUbyhmZWF0dXJlX2dyb3VwXzFiMGQ2NjMzNmIzMzRiZTNhMTFmYTY4OTI5NjVjYjEwKTsKICAgICAgICAgICAgCiAgICAKICAgICAgICAgICAgICAgIHZhciBwb2x5X2xpbmVfYWFhOGMyMDE2ODA4NDE3NmI1NTViNTI5MTliZWJjM2YgPSBMLnBvbHlsaW5lKAogICAgICAgICAgICAgICAgICAgIFtbLTIzLjY3NjUxOTksIC03MC40MTE2NzczXSwgWy0yMy42OTUyNTE1LCAtNzAuNDIwMDY5M11dLAogICAgICAgICAgICAgICAgICAgIHsKICAiYnViYmxpbmdNb3VzZUV2ZW50cyI6IHRydWUsCiAgImNvbG9yIjogIiMzMzg4ZmYiLAogICJkYXNoQXJyYXkiOiBudWxsLAogICJkYXNoT2Zmc2V0IjogbnVsbCwKICAiZmlsbCI6IGZhbHNlLAogICJmaWxsQ29sb3IiOiAiIzMzODhmZiIsCiAgImZpbGxPcGFjaXR5IjogMC4yLAogICJmaWxsUnVsZSI6ICJldmVub2RkIiwKICAibGluZUNhcCI6ICJyb3VuZCIsCiAgImxpbmVKb2luIjogInJvdW5kIiwKICAibm9DbGlwIjogZmFsc2UsCiAgIm9wYWNpdHkiOiAxLjAsCiAgInNtb290aEZhY3RvciI6IDEuMCwKICAic3Ryb2tlIjogdHJ1ZSwKICAid2VpZ2h0IjogNQp9KS5hZGRUbyhmZWF0dXJlX2dyb3VwXzFiMGQ2NjMzNmIzMzRiZTNhMTFmYTY4OTI5NjVjYjEwKTsKICAgICAgICAgICAgCiAgICAKICAgICAgICAgICAgICAgIHZhciBwb2x5X2xpbmVfMDUzN2Y2OTczZTA3NDI3MGFlNjVhMmIwZWI5MjE1YzIgPSBMLnBvbHlsaW5lKAogICAgICAgICAgICAgICAgICAgIFtbLTIzLjY5NTI1MTUsIC03MC40MjAwNjkzXSwgWy0yMy42OTc5MywgLTcwLjQxMzE5MDFdXSwKICAgICAgICAgICAgICAgICAgICB7CiAgImJ1YmJsaW5nTW91c2VFdmVudHMiOiB0cnVlLAogICJjb2xvciI6ICIjMzM4OGZmIiwKICAiZGFzaEFycmF5IjogbnVsbCwKICAiZGFzaE9mZnNldCI6IG51bGwsCiAgImZpbGwiOiBmYWxzZSwKICAiZmlsbENvbG9yIjogIiMzMzg4ZmYiLAogICJmaWxsT3BhY2l0eSI6IDAuMiwKICAiZmlsbFJ1bGUiOiAiZXZlbm9kZCIsCiAgImxpbmVDYXAiOiAicm91bmQiLAogICJsaW5lSm9pbiI6ICJyb3VuZCIsCiAgIm5vQ2xpcCI6IGZhbHNlLAogICJvcGFjaXR5IjogMS4wLAogICJzbW9vdGhGYWN0b3IiOiAxLjAsCiAgInN0cm9rZSI6IHRydWUsCiAgIndlaWdodCI6IDUKfSkuYWRkVG8oZmVhdHVyZV9ncm91cF8xYjBkNjYzMzZiMzM0YmUzYTExZmE2ODkyOTY1Y2IxMCk7CiAgICAgICAgICAgIAogICAgCiAgICAgICAgICAgICAgICB2YXIgcG9seV9saW5lXzY4NTI1OWRjNzI3MzQzOGE4ZDE5MDEwYjhiZDI1YzcxID0gTC5wb2x5bGluZSgKICAgICAgICAgICAgICAgICAgICBbWy0yMy42OTc5MywgLTcwLjQxMzE5MDFdLCBbLTIzLjY5Nzg0ODksIC03MC40MTA0NzM2XV0sCiAgICAgICAgICAgICAgICAgICAgewogICJidWJibGluZ01vdXNlRXZlbnRzIjogdHJ1ZSwKICAiY29sb3IiOiAiIzMzODhmZiIsCiAgImRhc2hBcnJheSI6IG51bGwsCiAgImRhc2hPZmZzZXQiOiBudWxsLAogICJmaWxsIjogZmFsc2UsCiAgImZpbGxDb2xvciI6ICIjMzM4OGZmIiwKICAiZmlsbE9wYWNpdHkiOiAwLjIsCiAgImZpbGxSdWxlIjogImV2ZW5vZGQiLAogICJsaW5lQ2FwIjogInJvdW5kIiwKICAibGluZUpvaW4iOiAicm91bmQiLAogICJub0NsaXAiOiBmYWxzZSwKICAib3BhY2l0eSI6IDEuMCwKICAic21vb3RoRmFjdG9yIjogMS4wLAogICJzdHJva2UiOiB0cnVlLAogICJ3ZWlnaHQiOiA1Cn0pLmFkZFRvKGZlYXR1cmVfZ3JvdXBfMWIwZDY2MzM2YjMzNGJlM2ExMWZhNjg5Mjk2NWNiMTApOwogICAgICAgICAgICAKICAgIAogICAgICAgICAgICAgICAgdmFyIHBvbHlfbGluZV9jMDhhZWI1N2Y3MTg0Y2IzODA4OTAyMmE4MzY0YzMxZCA9IEwucG9seWxpbmUoCiAgICAgICAgICAgICAgICAgICAgW1stMjMuNjk3ODQ4OSwgLTcwLjQxMDQ3MzZdLCBbLTIzLjYyMTQzNjcsIC03MC4zOTAzNzA2XV0sCiAgICAgICAgICAgICAgICAgICAgewogICJidWJibGluZ01vdXNlRXZlbnRzIjogdHJ1ZSwKICAiY29sb3IiOiAiIzMzODhmZiIsCiAgImRhc2hBcnJheSI6IG51bGwsCiAgImRhc2hPZmZzZXQiOiBudWxsLAogICJmaWxsIjogZmFsc2UsCiAgImZpbGxDb2xvciI6ICIjMzM4OGZmIiwKICAiZmlsbE9wYWNpdHkiOiAwLjIsCiAgImZpbGxSdWxlIjogImV2ZW5vZGQiLAogICJsaW5lQ2FwIjogInJvdW5kIiwKICAibGluZUpvaW4iOiAicm91bmQiLAogICJub0NsaXAiOiBmYWxzZSwKICAib3BhY2l0eSI6IDEuMCwKICAic21vb3RoRmFjdG9yIjogMS4wLAogICJzdHJva2UiOiB0cnVlLAogICJ3ZWlnaHQiOiA1Cn0pLmFkZFRvKGZlYXR1cmVfZ3JvdXBfMWIwZDY2MzM2YjMzNGJlM2ExMWZhNjg5Mjk2NWNiMTApOwogICAgICAgICAgICAKICAgIAogICAgICAgICAgICB2YXIgZmVhdHVyZV9ncm91cF83OTliYTg2YTkwYTA0OWI5OWRkODk4N2MxYWY3YjRiNiA9IEwuZmVhdHVyZUdyb3VwKAogICAgICAgICAgICAgICAgKS5hZGRUbyhtYXBfZGMxMjlkYzYyZmJlNGVjNGFjNzhmMDk4N2MzOGQ0OWIpOwogICAgICAgIAogICAgCiAgICAgICAgICAgICAgICB2YXIgcG9seV9saW5lX2YyZmRmNTJhMzFiYTRiM2JiZDkwNWM5YzI2N2Q5MDgyID0gTC5wb2x5bGluZSgKICAgICAgICAgICAgICAgICAgICBbWy0yMy42MjE0MzY3LCAtNzAuMzkwMzcwNl0sIFstMjMuNTg4Nzg1OSwgLTcwLjM5MTExNTFdXSwKICAgICAgICAgICAgICAgICAgICB7CiAgImJ1YmJsaW5nTW91c2VFdmVudHMiOiB0cnVlLAogICJjb2xvciI6ICIjMzM4OGZmIiwKICAiZGFzaEFycmF5IjogbnVsbCwKICAiZGFzaE9mZnNldCI6IG51bGwsCiAgImZpbGwiOiBmYWxzZSwKICAiZmlsbENvbG9yIjogIiMzMzg4ZmYiLAogICJmaWxsT3BhY2l0eSI6IDAuMiwKICAiZmlsbFJ1bGUiOiAiZXZlbm9kZCIsCiAgImxpbmVDYXAiOiAicm91bmQiLAogICJsaW5lSm9pbiI6ICJyb3VuZCIsCiAgIm5vQ2xpcCI6IGZhbHNlLAogICJvcGFjaXR5IjogMS4wLAogICJzbW9vdGhGYWN0b3IiOiAxLjAsCiAgInN0cm9rZSI6IHRydWUsCiAgIndlaWdodCI6IDUKfSkuYWRkVG8oZmVhdHVyZV9ncm91cF83OTliYTg2YTkwYTA0OWI5OWRkODk4N2MxYWY3YjRiNik7CiAgICAgICAgICAgIAogICAgCiAgICAgICAgICAgICAgICB2YXIgcG9seV9saW5lXzg0ZmYxOWE5YzU5NjQzM2FiYjE3NmQzOWVkNDIzYzEwID0gTC5wb2x5bGluZSgKICAgICAgICAgICAgICAgICAgICBbWy0yMy41ODg3ODU5LCAtNzAuMzkxMTE1MV0sIFstMjMuNTg3Mjg0MiwgLTcwLjM4OTEyMDhdXSwKICAgICAgICAgICAgICAgICAgICB7CiAgImJ1YmJsaW5nTW91c2VFdmVudHMiOiB0cnVlLAogICJjb2xvciI6ICIjMzM4OGZmIiwKICAiZGFzaEFycmF5IjogbnVsbCwKICAiZGFzaE9mZnNldCI6IG51bGwsCiAgImZpbGwiOiBmYWxzZSwKICAiZmlsbENvbG9yIjogIiMzMzg4ZmYiLAogICJmaWxsT3BhY2l0eSI6IDAuMiwKICAiZmlsbFJ1bGUiOiAiZXZlbm9kZCIsCiAgImxpbmVDYXAiOiAicm91bmQiLAogICJsaW5lSm9pbiI6ICJyb3VuZCIsCiAgIm5vQ2xpcCI6IGZhbHNlLAogICJvcGFjaXR5IjogMS4wLAogICJzbW9vdGhGYWN0b3IiOiAxLjAsCiAgInN0cm9rZSI6IHRydWUsCiAgIndlaWdodCI6IDUKfSkuYWRkVG8oZmVhdHVyZV9ncm91cF83OTliYTg2YTkwYTA0OWI5OWRkODk4N2MxYWY3YjRiNik7CiAgICAgICAgICAgIAogICAgCiAgICAgICAgICAgICAgICB2YXIgcG9seV9saW5lXzliMjg4NDQ0YTI4YTRlODY4OTkxNTUwNmQ5ZDM3NTYxID0gTC5wb2x5bGluZSgKICAgICAgICAgICAgICAgICAgICBbWy0yMy41ODcyODQyLCAtNzAuMzg5MTIwOF0sIFstMjMuNTg4MzUxLCAtNzAuMzg2NTcyNl1dLAogICAgICAgICAgICAgICAgICAgIHsKICAiYnViYmxpbmdNb3VzZUV2ZW50cyI6IHRydWUsCiAgImNvbG9yIjogIiMzMzg4ZmYiLAogICJkYXNoQXJyYXkiOiBudWxsLAogICJkYXNoT2Zmc2V0IjogbnVsbCwKICAiZmlsbCI6IGZhbHNlLAogICJmaWxsQ29sb3IiOiAiIzMzODhmZiIsCiAgImZpbGxPcGFjaXR5IjogMC4yLAogICJmaWxsUnVsZSI6ICJldmVub2RkIiwKICAibGluZUNhcCI6ICJyb3VuZCIsCiAgImxpbmVKb2luIjogInJvdW5kIiwKICAibm9DbGlwIjogZmFsc2UsCiAgIm9wYWNpdHkiOiAxLjAsCiAgInNtb290aEZhY3RvciI6IDEuMCwKICAic3Ryb2tlIjogdHJ1ZSwKICAid2VpZ2h0IjogNQp9KS5hZGRUbyhmZWF0dXJlX2dyb3VwXzc5OWJhODZhOTBhMDQ5Yjk5ZGQ4OTg3YzFhZjdiNGI2KTsKICAgICAgICAgICAgCiAgICAKICAgICAgICAgICAgICAgIHZhciBwb2x5X2xpbmVfNzRhNDdiZDQ2OGU0NDQ2NTk0ZGQ2ZGE2OWExNmQ1ZTQgPSBMLnBvbHlsaW5lKAogICAgICAgICAgICAgICAgICAgIFtbLTIzLjU4ODM1MSwgLTcwLjM4NjU3MjZdLCBbLTIzLjYyMTQzNjcsIC03MC4zOTAzNzA2XV0sCiAgICAgICAgICAgICAgICAgICAgewogICJidWJibGluZ01vdXNlRXZlbnRzIjogdHJ1ZSwKICAiY29sb3IiOiAiIzMzODhmZiIsCiAgImRhc2hBcnJheSI6IG51bGwsCiAgImRhc2hPZmZzZXQiOiBudWxsLAogICJmaWxsIjogZmFsc2UsCiAgImZpbGxDb2xvciI6ICIjMzM4OGZmIiwKICAiZmlsbE9wYWNpdHkiOiAwLjIsCiAgImZpbGxSdWxlIjogImV2ZW5vZGQiLAogICJsaW5lQ2FwIjogInJvdW5kIiwKICAibGluZUpvaW4iOiAicm91bmQiLAogICJub0NsaXAiOiBmYWxzZSwKICAib3BhY2l0eSI6IDEuMCwKICAic21vb3RoRmFjdG9yIjogMS4wLAogICJzdHJva2UiOiB0cnVlLAogICJ3ZWlnaHQiOiA1Cn0pLmFkZFRvKGZlYXR1cmVfZ3JvdXBfNzk5YmE4NmE5MGEwNDliOTlkZDg5ODdjMWFmN2I0YjYpOwogICAgICAgICAgICAKICAgIAogICAgICAgICAgICB2YXIgZmVhdHVyZV9ncm91cF85NWM4YzI5MWQ5OTk0Y2U5OTU0OTQzODYzMDZkM2QyYiA9IEwuZmVhdHVyZUdyb3VwKAogICAgICAgICAgICAgICAgKS5hZGRUbyhtYXBfZGMxMjlkYzYyZmJlNGVjNGFjNzhmMDk4N2MzOGQ0OWIpOwogICAgICAgIAogICAgCiAgICAgICAgICAgICAgICB2YXIgcG9seV9saW5lX2VhOTcwOWJlM2FiODQ2ODQ5YzZmZGQ1YWE0ZWVmMjczID0gTC5wb2x5bGluZSgKICAgICAgICAgICAgICAgICAgICBbWy0yMy42MjE0MzY3LCAtNzAuMzkwMzcwNl0sIFstMjMuNjk2MTkxMiwgLTcwLjQwNzI0NzJdXSwKICAgICAgICAgICAgICAgICAgICB7CiAgImJ1YmJsaW5nTW91c2VFdmVudHMiOiB0cnVlLAogICJjb2xvciI6ICIjMzM4OGZmIiwKICAiZGFzaEFycmF5IjogbnVsbCwKICAiZGFzaE9mZnNldCI6IG51bGwsCiAgImZpbGwiOiBmYWxzZSwKICAiZmlsbENvbG9yIjogIiMzMzg4ZmYiLAogICJmaWxsT3BhY2l0eSI6IDAuMiwKICAiZmlsbFJ1bGUiOiAiZXZlbm9kZCIsCiAgImxpbmVDYXAiOiAicm91bmQiLAogICJsaW5lSm9pbiI6ICJyb3VuZCIsCiAgIm5vQ2xpcCI6IGZhbHNlLAogICJvcGFjaXR5IjogMS4wLAogICJzbW9vdGhGYWN0b3IiOiAxLjAsCiAgInN0cm9rZSI6IHRydWUsCiAgIndlaWdodCI6IDUKfSkuYWRkVG8oZmVhdHVyZV9ncm91cF85NWM4YzI5MWQ5OTk0Y2U5OTU0OTQzODYzMDZkM2QyYik7CiAgICAgICAgICAgIAogICAgCiAgICAgICAgICAgICAgICB2YXIgcG9seV9saW5lXzcyNGU0NWU3NTM4MTQyNzNiZmYzY2FiZmVlMjhjMjUwID0gTC5wb2x5bGluZSgKICAgICAgICAgICAgICAgICAgICBbWy0yMy42OTYxOTEyLCAtNzAuNDA3MjQ3Ml0sIFstMjMuNjk2NjkxNCwgLTcwLjQwNzE2MTZdXSwKICAgICAgICAgICAgICAgICAgICB7CiAgImJ1YmJsaW5nTW91c2VFdmVudHMiOiB0cnVlLAogICJjb2xvciI6ICIjMzM4OGZmIiwKICAiZGFzaEFycmF5IjogbnVsbCwKICAiZGFzaE9mZnNldCI6IG51bGwsCiAgImZpbGwiOiBmYWxzZSwKICAiZmlsbENvbG9yIjogIiMzMzg4ZmYiLAogICJmaWxsT3BhY2l0eSI6IDAuMiwKICAiZmlsbFJ1bGUiOiAiZXZlbm9kZCIsCiAgImxpbmVDYXAiOiAicm91bmQiLAogICJsaW5lSm9pbiI6ICJyb3VuZCIsCiAgIm5vQ2xpcCI6IGZhbHNlLAogICJvcGFjaXR5IjogMS4wLAogICJzbW9vdGhGYWN0b3IiOiAxLjAsCiAgInN0cm9rZSI6IHRydWUsCiAgIndlaWdodCI6IDUKfSkuYWRkVG8oZmVhdHVyZV9ncm91cF85NWM4YzI5MWQ5OTk0Y2U5OTU0OTQzODYzMDZkM2QyYik7CiAgICAgICAgICAgIAogICAgCiAgICAgICAgICAgICAgICB2YXIgcG9seV9saW5lX2ZmMWNkZWUwNWE2ODQ4YzE4ZTVkNzlhMGMxMTY5NDkyID0gTC5wb2x5bGluZSgKICAgICAgICAgICAgICAgICAgICBbWy0yMy42OTY2OTE0LCAtNzAuNDA3MTYxNl0sIFstMjMuNjk2MjMwMiwgLTcwLjQwNzEzMjE5OTk5OTk5XV0sCiAgICAgICAgICAgICAgICAgICAgewogICJidWJibGluZ01vdXNlRXZlbnRzIjogdHJ1ZSwKICAiY29sb3IiOiAiIzMzODhmZiIsCiAgImRhc2hBcnJheSI6IG51bGwsCiAgImRhc2hPZmZzZXQiOiBudWxsLAogICJmaWxsIjogZmFsc2UsCiAgImZpbGxDb2xvciI6ICIjMzM4OGZmIiwKICAiZmlsbE9wYWNpdHkiOiAwLjIsCiAgImZpbGxSdWxlIjogImV2ZW5vZGQiLAogICJsaW5lQ2FwIjogInJvdW5kIiwKICAibGluZUpvaW4iOiAicm91bmQiLAogICJub0NsaXAiOiBmYWxzZSwKICAib3BhY2l0eSI6IDEuMCwKICAic21vb3RoRmFjdG9yIjogMS4wLAogICJzdHJva2UiOiB0cnVlLAogICJ3ZWlnaHQiOiA1Cn0pLmFkZFRvKGZlYXR1cmVfZ3JvdXBfOTVjOGMyOTFkOTk5NGNlOTk1NDk0Mzg2MzA2ZDNkMmIpOwogICAgICAgICAgICAKICAgIAogICAgICAgICAgICAgICAgdmFyIHBvbHlfbGluZV8zMWFhMTNhOWQ3N2U0ZmNlOTIxNDAxN2JkNWE1MDNmYiA9IEwucG9seWxpbmUoCiAgICAgICAgICAgICAgICAgICAgW1stMjMuNjk2MjMwMiwgLTcwLjQwNzEzMjE5OTk5OTk5XSwgWy0yMy42NjIzOTUyLCAtNzAuMzk2MTExN11dLAogICAgICAgICAgICAgICAgICAgIHsKICAiYnViYmxpbmdNb3VzZUV2ZW50cyI6IHRydWUsCiAgImNvbG9yIjogIiMzMzg4ZmYiLAogICJkYXNoQXJyYXkiOiBudWxsLAogICJkYXNoT2Zmc2V0IjogbnVsbCwKICAiZmlsbCI6IGZhbHNlLAogICJmaWxsQ29sb3IiOiAiIzMzODhmZiIsCiAgImZpbGxPcGFjaXR5IjogMC4yLAogICJmaWxsUnVsZSI6ICJldmVub2RkIiwKICAibGluZUNhcCI6ICJyb3VuZCIsCiAgImxpbmVKb2luIjogInJvdW5kIiwKICAibm9DbGlwIjogZmFsc2UsCiAgIm9wYWNpdHkiOiAxLjAsCiAgInNtb290aEZhY3RvciI6IDEuMCwKICAic3Ryb2tlIjogdHJ1ZSwKICAid2VpZ2h0IjogNQp9KS5hZGRUbyhmZWF0dXJlX2dyb3VwXzk1YzhjMjkxZDk5OTRjZTk5NTQ5NDM4NjMwNmQzZDJiKTsKICAgICAgICAgICAgCiAgICAKICAgICAgICAgICAgICAgIHZhciBwb2x5X2xpbmVfNDg2N2UwNDdlN2Y5NDZkYTgwZGY4ZTU5MzRmMzE5NWQgPSBMLnBvbHlsaW5lKAogICAgICAgICAgICAgICAgICAgIFtbLTIzLjY2MjM5NTIsIC03MC4zOTYxMTE3XSwgWy0yMy42MjE0MzY3LCAtNzAuMzkwMzcwNl1dLAogICAgICAgICAgICAgICAgICAgIHsKICAiYnViYmxpbmdNb3VzZUV2ZW50cyI6IHRydWUsCiAgImNvbG9yIjogIiMzMzg4ZmYiLAogICJkYXNoQXJyYXkiOiBudWxsLAogICJkYXNoT2Zmc2V0IjogbnVsbCwKICAiZmlsbCI6IGZhbHNlLAogICJmaWxsQ29sb3IiOiAiIzMzODhmZiIsCiAgImZpbGxPcGFjaXR5IjogMC4yLAogICJmaWxsUnVsZSI6ICJldmVub2RkIiwKICAibGluZUNhcCI6ICJyb3VuZCIsCiAgImxpbmVKb2luIjogInJvdW5kIiwKICAibm9DbGlwIjogZmFsc2UsCiAgIm9wYWNpdHkiOiAxLjAsCiAgInNtb290aEZhY3RvciI6IDEuMCwKICAic3Ryb2tlIjogdHJ1ZSwKICAid2VpZ2h0IjogNQp9KS5hZGRUbyhmZWF0dXJlX2dyb3VwXzk1YzhjMjkxZDk5OTRjZTk5NTQ5NDM4NjMwNmQzZDJiKTsKICAgICAgICAgICAgCiAgICAKICAgICAgICAgICAgdmFyIGZlYXR1cmVfZ3JvdXBfNzRkMDA3NmRlODExNDU5NTg2MmU3YTMwOTVmYTFjYzYgPSBMLmZlYXR1cmVHcm91cCgKICAgICAgICAgICAgICAgICkuYWRkVG8obWFwX2RjMTI5ZGM2MmZiZTRlYzRhYzc4ZjA5ODdjMzhkNDliKTsKICAgICAgICAKICAgIAogICAgICAgICAgICAgICAgdmFyIHBvbHlfbGluZV8xZjIyYzYwZjQxNjU0MGIxYjQ5MjE3OGZjOTk2NjExYyA9IEwucG9seWxpbmUoCiAgICAgICAgICAgICAgICAgICAgW1stMjMuNjIxNDM2NywgLTcwLjM5MDM3MDZdLCBbLTIzLjYzMDIzNzUsIC03MC4zOTI4OTk5XV0sCiAgICAgICAgICAgICAgICAgICAgewogICJidWJibGluZ01vdXNlRXZlbnRzIjogdHJ1ZSwKICAiY29sb3IiOiAiIzMzODhmZiIsCiAgImRhc2hBcnJheSI6IG51bGwsCiAgImRhc2hPZmZzZXQiOiBudWxsLAogICJmaWxsIjogZmFsc2UsCiAgImZpbGxDb2xvciI6ICIjMzM4OGZmIiwKICAiZmlsbE9wYWNpdHkiOiAwLjIsCiAgImZpbGxSdWxlIjogImV2ZW5vZGQiLAogICJsaW5lQ2FwIjogInJvdW5kIiwKICAibGluZUpvaW4iOiAicm91bmQiLAogICJub0NsaXAiOiBmYWxzZSwKICAib3BhY2l0eSI6IDEuMCwKICAic21vb3RoRmFjdG9yIjogMS4wLAogICJzdHJva2UiOiB0cnVlLAogICJ3ZWlnaHQiOiA1Cn0pLmFkZFRvKGZlYXR1cmVfZ3JvdXBfNzRkMDA3NmRlODExNDU5NTg2MmU3YTMwOTVmYTFjYzYpOwogICAgICAgICAgICAKICAgIAogICAgICAgICAgICAgICAgdmFyIHBvbHlfbGluZV9hYWYzMzc5ZmE1ZjQ0NWM3ODI0OWQ2ZTc2OWMxZDlhYiA9IEwucG9seWxpbmUoCiAgICAgICAgICAgICAgICAgICAgW1stMjMuNjMwMjM3NSwgLTcwLjM5Mjg5OTldLCBbLTIzLjY1MzMwMzUsIC03MC4zOTU0MjFdXSwKICAgICAgICAgICAgICAgICAgICB7CiAgImJ1YmJsaW5nTW91c2VFdmVudHMiOiB0cnVlLAogICJjb2xvciI6ICIjMzM4OGZmIiwKICAiZGFzaEFycmF5IjogbnVsbCwKICAiZGFzaE9mZnNldCI6IG51bGwsCiAgImZpbGwiOiBmYWxzZSwKICAiZmlsbENvbG9yIjogIiMzMzg4ZmYiLAogICJmaWxsT3BhY2l0eSI6IDAuMiwKICAiZmlsbFJ1bGUiOiAiZXZlbm9kZCIsCiAgImxpbmVDYXAiOiAicm91bmQiLAogICJsaW5lSm9pbiI6ICJyb3VuZCIsCiAgIm5vQ2xpcCI6IGZhbHNlLAogICJvcGFjaXR5IjogMS4wLAogICJzbW9vdGhGYWN0b3IiOiAxLjAsCiAgInN0cm9rZSI6IHRydWUsCiAgIndlaWdodCI6IDUKfSkuYWRkVG8oZmVhdHVyZV9ncm91cF83NGQwMDc2ZGU4MTE0NTk1ODYyZTdhMzA5NWZhMWNjNik7CiAgICAgICAgICAgIAogICAgCiAgICAgICAgICAgICAgICB2YXIgcG9seV9saW5lX2NhOTJlMGM0ODdiODRkN2Q5YThlYTFkODQ4ZWJlYWJkID0gTC5wb2x5bGluZSgKICAgICAgICAgICAgICAgICAgICBbWy0yMy42NTMzMDM1LCAtNzAuMzk1NDIxXSwgWy0yMy42NDY2MjM1LCAtNzAuMzkwMzYzNDk5OTk5OTldXSwKICAgICAgICAgICAgICAgICAgICB7CiAgImJ1YmJsaW5nTW91c2VFdmVudHMiOiB0cnVlLAogICJjb2xvciI6ICIjMzM4OGZmIiwKICAiZGFzaEFycmF5IjogbnVsbCwKICAiZGFzaE9mZnNldCI6IG51bGwsCiAgImZpbGwiOiBmYWxzZSwKICAiZmlsbENvbG9yIjogIiMzMzg4ZmYiLAogICJmaWxsT3BhY2l0eSI6IDAuMiwKICAiZmlsbFJ1bGUiOiAiZXZlbm9kZCIsCiAgImxpbmVDYXAiOiAicm91bmQiLAogICJsaW5lSm9pbiI6ICJyb3VuZCIsCiAgIm5vQ2xpcCI6IGZhbHNlLAogICJvcGFjaXR5IjogMS4wLAogICJzbW9vdGhGYWN0b3IiOiAxLjAsCiAgInN0cm9rZSI6IHRydWUsCiAgIndlaWdodCI6IDUKfSkuYWRkVG8oZmVhdHVyZV9ncm91cF83NGQwMDc2ZGU4MTE0NTk1ODYyZTdhMzA5NWZhMWNjNik7CiAgICAgICAgICAgIAogICAgCiAgICAgICAgICAgICAgICB2YXIgcG9seV9saW5lXzc4Y2IxZTE5MzIzMjRiNzI5Zjk4MTU0Yzc0YzIyNjdhID0gTC5wb2x5bGluZSgKICAgICAgICAgICAgICAgICAgICBbWy0yMy42NDY2MjM1LCAtNzAuMzkwMzYzNDk5OTk5OTldLCBbLTIzLjYzODM1MSwgLTcwLjM4NzU1NTldXSwKICAgICAgICAgICAgICAgICAgICB7CiAgImJ1YmJsaW5nTW91c2VFdmVudHMiOiB0cnVlLAogICJjb2xvciI6ICIjMzM4OGZmIiwKICAiZGFzaEFycmF5IjogbnVsbCwKICAiZGFzaE9mZnNldCI6IG51bGwsCiAgImZpbGwiOiBmYWxzZSwKICAiZmlsbENvbG9yIjogIiMzMzg4ZmYiLAogICJmaWxsT3BhY2l0eSI6IDAuMiwKICAiZmlsbFJ1bGUiOiAiZXZlbm9kZCIsCiAgImxpbmVDYXAiOiAicm91bmQiLAogICJsaW5lSm9pbiI6ICJyb3VuZCIsCiAgIm5vQ2xpcCI6IGZhbHNlLAogICJvcGFjaXR5IjogMS4wLAogICJzbW9vdGhGYWN0b3IiOiAxLjAsCiAgInN0cm9rZSI6IHRydWUsCiAgIndlaWdodCI6IDUKfSkuYWRkVG8oZmVhdHVyZV9ncm91cF83NGQwMDc2ZGU4MTE0NTk1ODYyZTdhMzA5NWZhMWNjNik7CiAgICAgICAgICAgIAogICAgCiAgICAgICAgICAgICAgICB2YXIgcG9seV9saW5lX2YxYjQ3NTkzYjdjZjQ4YmY4OWQxZGI5NjU5NzFkOGQyID0gTC5wb2x5bGluZSgKICAgICAgICAgICAgICAgICAgICBbWy0yMy42MzgzNTEsIC03MC4zODc1NTU5XSwgWy0yMy42MjE0MzY3LCAtNzAuMzkwMzcwNl1dLAogICAgICAgICAgICAgICAgICAgIHsKICAiYnViYmxpbmdNb3VzZUV2ZW50cyI6IHRydWUsCiAgImNvbG9yIjogIiMzMzg4ZmYiLAogICJkYXNoQXJyYXkiOiBudWxsLAogICJkYXNoT2Zmc2V0IjogbnVsbCwKICAiZmlsbCI6IGZhbHNlLAogICJmaWxsQ29sb3IiOiAiIzMzODhmZiIsCiAgImZpbGxPcGFjaXR5IjogMC4yLAogICJmaWxsUnVsZSI6ICJldmVub2RkIiwKICAibGluZUNhcCI6ICJyb3VuZCIsCiAgImxpbmVKb2luIjogInJvdW5kIiwKICAibm9DbGlwIjogZmFsc2UsCiAgIm9wYWNpdHkiOiAxLjAsCiAgInNtb290aEZhY3RvciI6IDEuMCwKICAic3Ryb2tlIjogdHJ1ZSwKICAid2VpZ2h0IjogNQp9KS5hZGRUbyhmZWF0dXJlX2dyb3VwXzc0ZDAwNzZkZTgxMTQ1OTU4NjJlN2EzMDk1ZmExY2M2KTsKICAgICAgICAgICAgCiAgICAKICAgICAgICAgICAgdmFyIGxheWVyX2NvbnRyb2xfNmVlM2I4NDNiZDNhNDUwNjlmOWM0NmY3NTBjMzgzMTMgPSB7CiAgICAgICAgICAgICAgICBiYXNlX2xheWVycyA6IHsgIm9wZW5zdHJlZXRtYXAiIDogdGlsZV9sYXllcl82ZWJkODRhZWViNzI0YTI2OTVhMzkyYTcyOThhZjZhZCwgfSwKICAgICAgICAgICAgICAgIG92ZXJsYXlzIDogeyAiRGlyZWNjaW9uZXMiIDogZmVhdHVyZV9ncm91cF80NzY2MWVjMWMwZmQ0YzU2Yjc5ZGNjZGRhNjdmNGI4YiwiUnV0YSAxIiA6IGZlYXR1cmVfZ3JvdXBfMWIwZDY2MzM2YjMzNGJlM2ExMWZhNjg5Mjk2NWNiMTAsIlJ1dGEgMiIgOiBmZWF0dXJlX2dyb3VwXzc5OWJhODZhOTBhMDQ5Yjk5ZGQ4OTg3YzFhZjdiNGI2LCJSdXRhIDMiIDogZmVhdHVyZV9ncm91cF85NWM4YzI5MWQ5OTk0Y2U5OTU0OTQzODYzMDZkM2QyYiwiUnV0YSA0IiA6IGZlYXR1cmVfZ3JvdXBfNzRkMDA3NmRlODExNDU5NTg2MmU3YTMwOTVmYTFjYzYsIH0KICAgICAgICAgICAgICAgIH07CiAgICAgICAgICAgIEwuY29udHJvbC5sYXllcnMoCiAgICAgICAgICAgICAgICBsYXllcl9jb250cm9sXzZlZTNiODQzYmQzYTQ1MDY5ZjljNDZmNzUwYzM4MzEzLmJhc2VfbGF5ZXJzLAogICAgICAgICAgICAgICAgbGF5ZXJfY29udHJvbF82ZWUzYjg0M2JkM2E0NTA2OWY5YzQ2Zjc1MGMzODMxMy5vdmVybGF5cywKICAgICAgICAgICAgICAgIHtwb3NpdGlvbjogJ3RvcHJpZ2h0JywKICAgICAgICAgICAgICAgICBjb2xsYXBzZWQ6IHRydWUsCiAgICAgICAgICAgICAgICAgYXV0b1pJbmRleDogdHJ1ZQogICAgICAgICAgICAgICAgfSkuYWRkVG8obWFwX2RjMTI5ZGM2MmZiZTRlYzRhYzc4ZjA5ODdjMzhkNDliKTsKICAgICAgICAKPC9zY3JpcHQ+\" style=\"position:absolute;width:100%;height:100%;left:0;top:0;border:none !important;\" allowfullscreen webkitallowfullscreen mozallowfullscreen></iframe></div></div>"
      ],
      "text/plain": [
       "<folium.folium.Map at 0x25e26be5cf8>"
      ]
     },
     "execution_count": 25,
     "metadata": {},
     "output_type": "execute_result"
    }
   ],
   "source": [
    "mapa = folium.Map(location=xw.Range('E2:F2').value, zoom_start=12)\n",
    "\n",
    "fg = folium.FeatureGroup(name='Direcciones')\n",
    "\n",
    "# Graficar el depot\n",
    "lat, lon = xw.Range('E2:F2').value\n",
    "fg.add_child(folium.Marker(location=[lat,lon],\n",
    "                           popup=folium.Popup('Depot'),\n",
    "                           icon=folium.Icon(color='red', \n",
    "                                            icon_color='white')\n",
    "                           ))\n",
    "\n",
    "# Graficar los clientes\n",
    "for nombre, dire, status, tipo, lat, lon in xw.Range('A3:F%d'%(n+2)).value:\n",
    "    fg.add_child(folium.Marker(location=[lat,lon],\n",
    "                               popup=folium.Popup(nombre),\n",
    "                               icon=folium.Icon(color='blue',\n",
    "                                                icon_color='white')\n",
    "                               ))\n",
    "\n",
    "mapa.add_child(fg)\n",
    "\n",
    "# Graficar las rutas por separado\n",
    "k = 0\n",
    "for ruta in rutas:\n",
    "    k = k + 1\n",
    "    fg = folium.FeatureGroup(name='Ruta %d'%(k))\n",
    "    for i, j in ruta:\n",
    "        poly = folium.PolyLine(locations=[[lats[i],lons[i]],[lats[j],lons[j]]], weight=5)\n",
    "        fg.add_child(poly)\n",
    "    mapa.add_child(fg)\n",
    "\n",
    "# Mostrar el mapa\n",
    "mapa.add_child(folium.LayerControl())\n",
    "mapa"
   ]
  }
 ],
 "metadata": {
  "kernelspec": {
   "display_name": "Python 3",
   "language": "python",
   "name": "python3"
  },
  "language_info": {
   "codemirror_mode": {
    "name": "ipython",
    "version": 3
   },
   "file_extension": ".py",
   "mimetype": "text/x-python",
   "name": "python",
   "nbconvert_exporter": "python",
   "pygments_lexer": "ipython3",
   "version": "3.5.4"
  }
 },
 "nbformat": 4,
 "nbformat_minor": 2
}
